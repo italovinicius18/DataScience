{
 "cells": [
  {
   "cell_type": "code",
   "execution_count": 1,
   "id": "50ba7bf1",
   "metadata": {
    "_cell_guid": "b1076dfc-b9ad-4769-8c92-a6c4dae69d19",
    "_uuid": "8f2839f25d086af736a60e9eeb907d3b93b6e0e5",
    "execution": {
     "iopub.execute_input": "2022-10-19T11:56:53.039041Z",
     "iopub.status.busy": "2022-10-19T11:56:53.038216Z",
     "iopub.status.idle": "2022-10-19T11:56:53.052032Z",
     "shell.execute_reply": "2022-10-19T11:56:53.050338Z"
    },
    "papermill": {
     "duration": 0.034525,
     "end_time": "2022-10-19T11:56:53.054616",
     "exception": false,
     "start_time": "2022-10-19T11:56:53.020091",
     "status": "completed"
    },
    "tags": []
   },
   "outputs": [
    {
     "name": "stdout",
     "output_type": "stream",
     "text": [
      "/kaggle/input/titanic/train.csv\n",
      "/kaggle/input/titanic/test.csv\n",
      "/kaggle/input/titanic/gender_submission.csv\n"
     ]
    }
   ],
   "source": [
    "# Input data files are available in the read-only \"../input/\" directory\n",
    "# For example, running this (by clicking run or pressing Shift+Enter) will list all files under the input directory\n",
    "\n",
    "import os\n",
    "for dirname, _, filenames in os.walk('/kaggle/input'):\n",
    "    for filename in filenames:\n",
    "        print(os.path.join(dirname, filename))\n",
    "\n",
    "# You can write up to 20GB to the current directory (/kaggle/working/) that gets preserved as output when you create a version using \"Save & Run All\" \n",
    "# You can also write temporary files to /kaggle/temp/, but they won't be saved outside of the current session"
   ]
  },
  {
   "cell_type": "code",
   "execution_count": 2,
   "id": "68af6000",
   "metadata": {
    "execution": {
     "iopub.execute_input": "2022-10-19T11:56:53.089481Z",
     "iopub.status.busy": "2022-10-19T11:56:53.088207Z",
     "iopub.status.idle": "2022-10-19T11:56:54.055842Z",
     "shell.execute_reply": "2022-10-19T11:56:54.054921Z"
    },
    "papermill": {
     "duration": 0.986884,
     "end_time": "2022-10-19T11:56:54.058788",
     "exception": false,
     "start_time": "2022-10-19T11:56:53.071904",
     "status": "completed"
    },
    "tags": []
   },
   "outputs": [],
   "source": [
    "# This Python 3 environment comes with many helpful analytics libraries installed\n",
    "# It is defined by the kaggle/python Docker image: https://github.com/kaggle/docker-python\n",
    "# For example, here's several helpful packages to load\n",
    "\n",
    "import numpy as np # linear algebra\n",
    "import pandas as pd # data processing, CSV file I/O (e.g. pd.read_csv)\n",
    "import re\n",
    "from collections import Counter\n",
    "import seaborn as sns\n",
    "sns.set(rc={'figure.figsize':(11.7,8.27)})\n",
    "import matplotlib.pyplot as plt"
   ]
  },
  {
   "cell_type": "code",
   "execution_count": 3,
   "id": "427af42a",
   "metadata": {
    "execution": {
     "iopub.execute_input": "2022-10-19T11:56:54.090592Z",
     "iopub.status.busy": "2022-10-19T11:56:54.090145Z",
     "iopub.status.idle": "2022-10-19T11:56:54.147415Z",
     "shell.execute_reply": "2022-10-19T11:56:54.146671Z"
    },
    "papermill": {
     "duration": 0.075942,
     "end_time": "2022-10-19T11:56:54.149854",
     "exception": false,
     "start_time": "2022-10-19T11:56:54.073912",
     "status": "completed"
    },
    "tags": []
   },
   "outputs": [
    {
     "data": {
      "text/html": [
       "<div>\n",
       "<style scoped>\n",
       "    .dataframe tbody tr th:only-of-type {\n",
       "        vertical-align: middle;\n",
       "    }\n",
       "\n",
       "    .dataframe tbody tr th {\n",
       "        vertical-align: top;\n",
       "    }\n",
       "\n",
       "    .dataframe thead th {\n",
       "        text-align: right;\n",
       "    }\n",
       "</style>\n",
       "<table border=\"1\" class=\"dataframe\">\n",
       "  <thead>\n",
       "    <tr style=\"text-align: right;\">\n",
       "      <th></th>\n",
       "      <th>PassengerId</th>\n",
       "      <th>Survived</th>\n",
       "      <th>Pclass</th>\n",
       "      <th>Name</th>\n",
       "      <th>Sex</th>\n",
       "      <th>Age</th>\n",
       "      <th>SibSp</th>\n",
       "      <th>Parch</th>\n",
       "      <th>Ticket</th>\n",
       "      <th>Fare</th>\n",
       "      <th>Cabin</th>\n",
       "      <th>Embarked</th>\n",
       "    </tr>\n",
       "  </thead>\n",
       "  <tbody>\n",
       "    <tr>\n",
       "      <th>0</th>\n",
       "      <td>1</td>\n",
       "      <td>0</td>\n",
       "      <td>3</td>\n",
       "      <td>Braund, Mr. Owen Harris</td>\n",
       "      <td>male</td>\n",
       "      <td>22.0</td>\n",
       "      <td>1</td>\n",
       "      <td>0</td>\n",
       "      <td>A/5 21171</td>\n",
       "      <td>7.2500</td>\n",
       "      <td>NaN</td>\n",
       "      <td>S</td>\n",
       "    </tr>\n",
       "    <tr>\n",
       "      <th>1</th>\n",
       "      <td>2</td>\n",
       "      <td>1</td>\n",
       "      <td>1</td>\n",
       "      <td>Cumings, Mrs. John Bradley (Florence Briggs Th...</td>\n",
       "      <td>female</td>\n",
       "      <td>38.0</td>\n",
       "      <td>1</td>\n",
       "      <td>0</td>\n",
       "      <td>PC 17599</td>\n",
       "      <td>71.2833</td>\n",
       "      <td>C85</td>\n",
       "      <td>C</td>\n",
       "    </tr>\n",
       "    <tr>\n",
       "      <th>2</th>\n",
       "      <td>3</td>\n",
       "      <td>1</td>\n",
       "      <td>3</td>\n",
       "      <td>Heikkinen, Miss. Laina</td>\n",
       "      <td>female</td>\n",
       "      <td>26.0</td>\n",
       "      <td>0</td>\n",
       "      <td>0</td>\n",
       "      <td>STON/O2. 3101282</td>\n",
       "      <td>7.9250</td>\n",
       "      <td>NaN</td>\n",
       "      <td>S</td>\n",
       "    </tr>\n",
       "    <tr>\n",
       "      <th>3</th>\n",
       "      <td>4</td>\n",
       "      <td>1</td>\n",
       "      <td>1</td>\n",
       "      <td>Futrelle, Mrs. Jacques Heath (Lily May Peel)</td>\n",
       "      <td>female</td>\n",
       "      <td>35.0</td>\n",
       "      <td>1</td>\n",
       "      <td>0</td>\n",
       "      <td>113803</td>\n",
       "      <td>53.1000</td>\n",
       "      <td>C123</td>\n",
       "      <td>S</td>\n",
       "    </tr>\n",
       "    <tr>\n",
       "      <th>4</th>\n",
       "      <td>5</td>\n",
       "      <td>0</td>\n",
       "      <td>3</td>\n",
       "      <td>Allen, Mr. William Henry</td>\n",
       "      <td>male</td>\n",
       "      <td>35.0</td>\n",
       "      <td>0</td>\n",
       "      <td>0</td>\n",
       "      <td>373450</td>\n",
       "      <td>8.0500</td>\n",
       "      <td>NaN</td>\n",
       "      <td>S</td>\n",
       "    </tr>\n",
       "  </tbody>\n",
       "</table>\n",
       "</div>"
      ],
      "text/plain": [
       "   PassengerId  Survived  Pclass  \\\n",
       "0            1         0       3   \n",
       "1            2         1       1   \n",
       "2            3         1       3   \n",
       "3            4         1       1   \n",
       "4            5         0       3   \n",
       "\n",
       "                                                Name     Sex   Age  SibSp  \\\n",
       "0                            Braund, Mr. Owen Harris    male  22.0      1   \n",
       "1  Cumings, Mrs. John Bradley (Florence Briggs Th...  female  38.0      1   \n",
       "2                             Heikkinen, Miss. Laina  female  26.0      0   \n",
       "3       Futrelle, Mrs. Jacques Heath (Lily May Peel)  female  35.0      1   \n",
       "4                           Allen, Mr. William Henry    male  35.0      0   \n",
       "\n",
       "   Parch            Ticket     Fare Cabin Embarked  \n",
       "0      0         A/5 21171   7.2500   NaN        S  \n",
       "1      0          PC 17599  71.2833   C85        C  \n",
       "2      0  STON/O2. 3101282   7.9250   NaN        S  \n",
       "3      0            113803  53.1000  C123        S  \n",
       "4      0            373450   8.0500   NaN        S  "
      ]
     },
     "execution_count": 3,
     "metadata": {},
     "output_type": "execute_result"
    }
   ],
   "source": [
    "train = pd.read_csv('../input/titanic/train.csv')\n",
    "test = pd.read_csv('../input/titanic/test.csv')\n",
    "\n",
    "test['Survived'] = -1\n",
    "\n",
    "df = pd.concat([train,test])\n",
    "\n",
    "df.head()"
   ]
  },
  {
   "cell_type": "code",
   "execution_count": 4,
   "id": "3872bf78",
   "metadata": {
    "execution": {
     "iopub.execute_input": "2022-10-19T11:56:54.182607Z",
     "iopub.status.busy": "2022-10-19T11:56:54.181964Z",
     "iopub.status.idle": "2022-10-19T11:56:54.201951Z",
     "shell.execute_reply": "2022-10-19T11:56:54.200752Z"
    },
    "papermill": {
     "duration": 0.039332,
     "end_time": "2022-10-19T11:56:54.204598",
     "exception": false,
     "start_time": "2022-10-19T11:56:54.165266",
     "status": "completed"
    },
    "tags": []
   },
   "outputs": [
    {
     "name": "stdout",
     "output_type": "stream",
     "text": [
      "<class 'pandas.core.frame.DataFrame'>\n",
      "Int64Index: 1309 entries, 0 to 417\n",
      "Data columns (total 12 columns):\n",
      " #   Column       Non-Null Count  Dtype  \n",
      "---  ------       --------------  -----  \n",
      " 0   PassengerId  1309 non-null   int64  \n",
      " 1   Survived     1309 non-null   int64  \n",
      " 2   Pclass       1309 non-null   int64  \n",
      " 3   Name         1309 non-null   object \n",
      " 4   Sex          1309 non-null   object \n",
      " 5   Age          1046 non-null   float64\n",
      " 6   SibSp        1309 non-null   int64  \n",
      " 7   Parch        1309 non-null   int64  \n",
      " 8   Ticket       1309 non-null   object \n",
      " 9   Fare         1308 non-null   float64\n",
      " 10  Cabin        295 non-null    object \n",
      " 11  Embarked     1307 non-null   object \n",
      "dtypes: float64(2), int64(5), object(5)\n",
      "memory usage: 132.9+ KB\n"
     ]
    }
   ],
   "source": [
    "df.info()"
   ]
  },
  {
   "cell_type": "markdown",
   "id": "940b87a3",
   "metadata": {
    "papermill": {
     "duration": 0.01521,
     "end_time": "2022-10-19T11:56:54.235361",
     "exception": false,
     "start_time": "2022-10-19T11:56:54.220151",
     "status": "completed"
    },
    "tags": []
   },
   "source": [
    "## Feature engineering\n",
    "\n",
    "Let's extract some informations in Name and cabin columns to create new features\n",
    "Vamos extrair mais alguns dados das infromações que a gente já possui, verificando o que pode ser retirado ou melhorado nas colunas de cabine ou nome"
   ]
  },
  {
   "cell_type": "markdown",
   "id": "19eea0ab",
   "metadata": {
    "papermill": {
     "duration": 0.019697,
     "end_time": "2022-10-19T11:56:54.271111",
     "exception": false,
     "start_time": "2022-10-19T11:56:54.251414",
     "status": "completed"
    },
    "tags": []
   },
   "source": [
    "### Analyzing Name column\n",
    "\n",
    "Vamos verificar quais são os textos que a gente possui nos nomes e como podemos utilizá-lo para extrair mais informações"
   ]
  },
  {
   "cell_type": "code",
   "execution_count": 5,
   "id": "f09eff82",
   "metadata": {
    "execution": {
     "iopub.execute_input": "2022-10-19T11:56:54.314257Z",
     "iopub.status.busy": "2022-10-19T11:56:54.313211Z",
     "iopub.status.idle": "2022-10-19T11:56:54.324135Z",
     "shell.execute_reply": "2022-10-19T11:56:54.322007Z"
    },
    "papermill": {
     "duration": 0.035662,
     "end_time": "2022-10-19T11:56:54.326996",
     "exception": false,
     "start_time": "2022-10-19T11:56:54.291334",
     "status": "completed"
    },
    "tags": []
   },
   "outputs": [
    {
     "name": "stdout",
     "output_type": "stream",
     "text": [
      "0                                Braund, Mr. Owen Harris\n",
      "1      Cumings, Mrs. John Bradley (Florence Briggs Th...\n",
      "2                                 Heikkinen, Miss. Laina\n",
      "3           Futrelle, Mrs. Jacques Heath (Lily May Peel)\n",
      "4                               Allen, Mr. William Henry\n",
      "                             ...                        \n",
      "413                                   Spector, Mr. Woolf\n",
      "414                         Oliva y Ocana, Dona. Fermina\n",
      "415                         Saether, Mr. Simon Sivertsen\n",
      "416                                  Ware, Mr. Frederick\n",
      "417                             Peter, Master. Michael J\n",
      "Name: Name, Length: 1309, dtype: object\n"
     ]
    }
   ],
   "source": [
    "names = df['Name']\n",
    "print(names)"
   ]
  },
  {
   "cell_type": "markdown",
   "id": "384a2ada",
   "metadata": {
    "papermill": {
     "duration": 0.016141,
     "end_time": "2022-10-19T11:56:54.360893",
     "exception": false,
     "start_time": "2022-10-19T11:56:54.344752",
     "status": "completed"
    },
    "tags": []
   },
   "source": [
    "Já percebemos que existem alguns caracteres especiais no nome, então vamos removê-los e tornar todo o texto minusculo, para que não haja diferença em palavras que são iguais"
   ]
  },
  {
   "cell_type": "code",
   "execution_count": 6,
   "id": "198d6140",
   "metadata": {
    "execution": {
     "iopub.execute_input": "2022-10-19T11:56:54.394404Z",
     "iopub.status.busy": "2022-10-19T11:56:54.393686Z",
     "iopub.status.idle": "2022-10-19T11:56:54.406275Z",
     "shell.execute_reply": "2022-10-19T11:56:54.405082Z"
    },
    "papermill": {
     "duration": 0.03236,
     "end_time": "2022-10-19T11:56:54.409089",
     "exception": false,
     "start_time": "2022-10-19T11:56:54.376729",
     "status": "completed"
    },
    "tags": []
   },
   "outputs": [
    {
     "name": "stdout",
     "output_type": "stream",
     "text": [
      "0                                braund mr owen harris\n",
      "1      cumings mrs john bradley florence briggs thayer\n",
      "2                                 heikkinen miss laina\n",
      "3             futrelle mrs jacques heath lily may peel\n",
      "4                               allen mr william henry\n",
      "                            ...                       \n",
      "413                                   spector mr woolf\n",
      "414                         oliva y ocana dona fermina\n",
      "415                         saether mr simon sivertsen\n",
      "416                                  ware mr frederick\n",
      "417                             peter master michael j\n",
      "Name: Name, Length: 1309, dtype: object\n"
     ]
    }
   ],
   "source": [
    "names_clean = names.apply(lambda x: re.sub(r'[^\\w ]+','',x).lower())\n",
    "print(names_clean)\n",
    "\n",
    "df['Name'] = names_clean"
   ]
  },
  {
   "cell_type": "markdown",
   "id": "37e361d5",
   "metadata": {
    "papermill": {
     "duration": 0.016822,
     "end_time": "2022-10-19T11:56:54.443047",
     "exception": false,
     "start_time": "2022-10-19T11:56:54.426225",
     "status": "completed"
    },
    "tags": []
   },
   "source": [
    "Agora que temos o texto sem caracteres e está todo em minusculo, podemos criar um lista com todas as plavras e verificar qual a frequencia de cada palavra"
   ]
  },
  {
   "cell_type": "code",
   "execution_count": 7,
   "id": "11d08c40",
   "metadata": {
    "execution": {
     "iopub.execute_input": "2022-10-19T11:56:54.476619Z",
     "iopub.status.busy": "2022-10-19T11:56:54.476010Z",
     "iopub.status.idle": "2022-10-19T11:56:54.485263Z",
     "shell.execute_reply": "2022-10-19T11:56:54.483918Z"
    },
    "papermill": {
     "duration": 0.02921,
     "end_time": "2022-10-19T11:56:54.488134",
     "exception": false,
     "start_time": "2022-10-19T11:56:54.458924",
     "status": "completed"
    },
    "tags": []
   },
   "outputs": [
    {
     "name": "stdout",
     "output_type": "stream",
     "text": [
      "[('mr', 763), ('miss', 260), ('mrs', 201), ('william', 87), ('john', 72), ('master', 61), ('henry', 49), ('charles', 39), ('james', 38), ('george', 37), ('thomas', 36), ('joseph', 31), ('mary', 30), ('edward', 28), ('elizabeth', 25), ('johan', 22), ('frederick', 21), ('alexander', 20), ('samuel', 20), ('arthur', 20), ('maria', 18), ('anna', 18), ('robert', 18), ('alfred', 18), ('richard', 16), ('margaret', 14), ('albert', 14), ('jr', 14), ('karl', 14), ('frank', 14), ('j', 13), ('peter', 13), ('andersson', 12), ('ernest', 12), ('patrick', 12), ('alice', 12), ('annie', 11), ('h', 11), ('harry', 11), ('sage', 11)]\n"
     ]
    }
   ],
   "source": [
    "list_names = []\n",
    "df['Name'].apply(lambda x: list_names.extend(x.split()))\n",
    "\n",
    "c = Counter(list_names)\n",
    "print(c.most_common(40))"
   ]
  },
  {
   "cell_type": "markdown",
   "id": "3edc26a6",
   "metadata": {
    "papermill": {
     "duration": 0.015252,
     "end_time": "2022-10-19T11:56:54.519503",
     "exception": false,
     "start_time": "2022-10-19T11:56:54.504251",
     "status": "completed"
    },
    "tags": []
   },
   "source": [
    "Vericamos que existem muitos titulos pessoais, os quais podem ser boas features para preencher a idade, que é um campo que possui alguns valores nulos"
   ]
  },
  {
   "cell_type": "code",
   "execution_count": 8,
   "id": "e564ce1c",
   "metadata": {
    "execution": {
     "iopub.execute_input": "2022-10-19T11:56:54.552345Z",
     "iopub.status.busy": "2022-10-19T11:56:54.551950Z",
     "iopub.status.idle": "2022-10-19T11:56:54.558063Z",
     "shell.execute_reply": "2022-10-19T11:56:54.556757Z"
    },
    "papermill": {
     "duration": 0.025129,
     "end_time": "2022-10-19T11:56:54.560106",
     "exception": false,
     "start_time": "2022-10-19T11:56:54.534977",
     "status": "completed"
    },
    "tags": []
   },
   "outputs": [],
   "source": [
    "abrevs = ['mrs','mr','master','miss'] # I put Mrs first to not confuse with Mr when check \n",
    "\n",
    "def fill_abrevs(s):\n",
    "    for abrev in abrevs:\n",
    "        if abrev in s:\n",
    "            return abrev\n",
    "    return 'Normal'"
   ]
  },
  {
   "cell_type": "code",
   "execution_count": 9,
   "id": "3aafcc07",
   "metadata": {
    "execution": {
     "iopub.execute_input": "2022-10-19T11:56:54.593776Z",
     "iopub.status.busy": "2022-10-19T11:56:54.592883Z",
     "iopub.status.idle": "2022-10-19T11:56:54.600761Z",
     "shell.execute_reply": "2022-10-19T11:56:54.599661Z"
    },
    "papermill": {
     "duration": 0.02723,
     "end_time": "2022-10-19T11:56:54.603337",
     "exception": false,
     "start_time": "2022-10-19T11:56:54.576107",
     "status": "completed"
    },
    "tags": []
   },
   "outputs": [],
   "source": [
    "df['Abrev'] = df['Name'].apply(lambda x: fill_abrevs(x))"
   ]
  },
  {
   "cell_type": "code",
   "execution_count": 10,
   "id": "a713b092",
   "metadata": {
    "execution": {
     "iopub.execute_input": "2022-10-19T11:56:54.636699Z",
     "iopub.status.busy": "2022-10-19T11:56:54.636275Z",
     "iopub.status.idle": "2022-10-19T11:56:54.646992Z",
     "shell.execute_reply": "2022-10-19T11:56:54.645623Z"
    },
    "papermill": {
     "duration": 0.030823,
     "end_time": "2022-10-19T11:56:54.650000",
     "exception": false,
     "start_time": "2022-10-19T11:56:54.619177",
     "status": "completed"
    },
    "tags": []
   },
   "outputs": [
    {
     "data": {
      "text/plain": [
       "mr        758\n",
       "miss      258\n",
       "mrs       201\n",
       "master     61\n",
       "Normal     31\n",
       "Name: Abrev, dtype: int64"
      ]
     },
     "execution_count": 10,
     "metadata": {},
     "output_type": "execute_result"
    }
   ],
   "source": [
    "df['Abrev'].value_counts()"
   ]
  },
  {
   "cell_type": "markdown",
   "id": "d6e84479",
   "metadata": {
    "papermill": {
     "duration": 0.022444,
     "end_time": "2022-10-19T11:56:54.694023",
     "exception": false,
     "start_time": "2022-10-19T11:56:54.671579",
     "status": "completed"
    },
    "tags": []
   },
   "source": [
    "Agora que já posuimos a colunas que dispôes os titulos pessoais, podemos verificar se o titulo representa uma média da idade, comprovando se o nosso pensamento é correto "
   ]
  },
  {
   "cell_type": "code",
   "execution_count": 11,
   "id": "0b5938df",
   "metadata": {
    "execution": {
     "iopub.execute_input": "2022-10-19T11:56:54.728613Z",
     "iopub.status.busy": "2022-10-19T11:56:54.727709Z",
     "iopub.status.idle": "2022-10-19T11:56:54.944028Z",
     "shell.execute_reply": "2022-10-19T11:56:54.942712Z"
    },
    "papermill": {
     "duration": 0.236165,
     "end_time": "2022-10-19T11:56:54.946705",
     "exception": false,
     "start_time": "2022-10-19T11:56:54.710540",
     "status": "completed"
    },
    "tags": []
   },
   "outputs": [
    {
     "data": {
      "image/png": "[encoded data removed]",
      "text/plain": [
       "<Figure size 842.4x595.44 with 1 Axes>"
      ]
     },
     "metadata": {},
     "output_type": "display_data"
    },
    {
     "name": "stdout",
     "output_type": "stream",
     "text": [
      "Abrev\n",
      "Normal    44.357143\n",
      "master     5.213333\n",
      "miss      27.518182\n",
      "mr        40.220833\n",
      "mrs       40.763889\n",
      "Name: Age, dtype: float64\n",
      "{'Normal': 46.0, 'master': 4.0, 'miss': 29.0, 'mr': 39.0, 'mrs': 41.5}\n"
     ]
    }
   ],
   "source": [
    "df_not_nan = df.dropna()\n",
    "sns.barplot(data=df_not_nan,x='Abrev',y='Age', ci=None)\n",
    "plt.show()\n",
    "\n",
    "mean_age_abrev = df_not_nan.groupby('Abrev')['Age'].mean()\n",
    "median_age_abrev = df_not_nan.groupby('Abrev')['Age'].median()\n",
    "median_age_abrev = median_age_abrev.to_dict()\n",
    "\n",
    "print(mean_age_abrev)\n",
    "print(median_age_abrev)"
   ]
  },
  {
   "cell_type": "markdown",
   "id": "8386edbf",
   "metadata": {
    "execution": {
     "iopub.execute_input": "2022-10-01T17:19:35.739809Z",
     "iopub.status.busy": "2022-10-01T17:19:35.739346Z",
     "iopub.status.idle": "2022-10-01T17:19:35.748422Z",
     "shell.execute_reply": "2022-10-01T17:19:35.746819Z",
     "shell.execute_reply.started": "2022-10-01T17:19:35.739759Z"
    },
    "papermill": {
     "duration": 0.016054,
     "end_time": "2022-10-19T11:56:54.979220",
     "exception": false,
     "start_time": "2022-10-19T11:56:54.963166",
     "status": "completed"
    },
    "tags": []
   },
   "source": [
    "Eu percebi um problema no título master, porém master é um termo para descrever homens menores de idade, então está correto nosso entendimento. Agora que já possuimos o título, podemos inferir a idade das pessoas, então vamos preecher com o mediana do título dado as pessoas."
   ]
  },
  {
   "cell_type": "code",
   "execution_count": 12,
   "id": "ce3aa823",
   "metadata": {
    "execution": {
     "iopub.execute_input": "2022-10-19T11:56:55.014183Z",
     "iopub.status.busy": "2022-10-19T11:56:55.013376Z",
     "iopub.status.idle": "2022-10-19T11:56:55.025406Z",
     "shell.execute_reply": "2022-10-19T11:56:55.024164Z"
    },
    "papermill": {
     "duration": 0.033187,
     "end_time": "2022-10-19T11:56:55.028273",
     "exception": false,
     "start_time": "2022-10-19T11:56:54.995086",
     "status": "completed"
    },
    "tags": []
   },
   "outputs": [
    {
     "name": "stdout",
     "output_type": "stream",
     "text": [
      "count    1046.000000\n",
      "mean       29.881138\n",
      "std        14.413493\n",
      "min         0.170000\n",
      "25%        21.000000\n",
      "50%        28.000000\n",
      "75%        39.000000\n",
      "max        80.000000\n",
      "Name: Age, dtype: float64\n"
     ]
    }
   ],
   "source": [
    "print(df['Age'].describe())"
   ]
  },
  {
   "cell_type": "code",
   "execution_count": 13,
   "id": "d6daf8c3",
   "metadata": {
    "execution": {
     "iopub.execute_input": "2022-10-19T11:56:55.064553Z",
     "iopub.status.busy": "2022-10-19T11:56:55.063377Z",
     "iopub.status.idle": "2022-10-19T11:56:55.098707Z",
     "shell.execute_reply": "2022-10-19T11:56:55.096804Z"
    },
    "papermill": {
     "duration": 0.056294,
     "end_time": "2022-10-19T11:56:55.102005",
     "exception": false,
     "start_time": "2022-10-19T11:56:55.045711",
     "status": "completed"
    },
    "tags": []
   },
   "outputs": [
    {
     "name": "stdout",
     "output_type": "stream",
     "text": [
      "count    1309.000000\n",
      "mean       31.179656\n",
      "std        13.519931\n",
      "min         0.170000\n",
      "25%        22.000000\n",
      "50%        30.000000\n",
      "75%        39.000000\n",
      "max        80.000000\n",
      "Name: Age, dtype: float64\n"
     ]
    }
   ],
   "source": [
    "df['Age'] = df.apply(lambda x: x['Age'] if pd.notna(x['Age']) else median_age_abrev[x['Abrev']], axis=1)\n",
    "print(df['Age'].describe())"
   ]
  },
  {
   "cell_type": "markdown",
   "id": "d5a21122",
   "metadata": {
    "papermill": {
     "duration": 0.024008,
     "end_time": "2022-10-19T11:56:55.145583",
     "exception": false,
     "start_time": "2022-10-19T11:56:55.121575",
     "status": "completed"
    },
    "tags": []
   },
   "source": [
    "### Analyzing Cabin column\n",
    "\n",
    "In the first rows, we can check that the cabin follows a pattern, let's check that this is real\n",
    "\n",
    "Nas primeiras linhas das cabines, percebe-se que as cabines seguem um padrão, vamo verificar se isto é verdade"
   ]
  },
  {
   "cell_type": "code",
   "execution_count": 14,
   "id": "0e498954",
   "metadata": {
    "execution": {
     "iopub.execute_input": "2022-10-19T11:56:55.183818Z",
     "iopub.status.busy": "2022-10-19T11:56:55.182791Z",
     "iopub.status.idle": "2022-10-19T11:56:55.189750Z",
     "shell.execute_reply": "2022-10-19T11:56:55.188931Z"
    },
    "papermill": {
     "duration": 0.029551,
     "end_time": "2022-10-19T11:56:55.191827",
     "exception": false,
     "start_time": "2022-10-19T11:56:55.162276",
     "status": "completed"
    },
    "tags": []
   },
   "outputs": [
    {
     "data": {
      "text/plain": [
       "array(['C85', 'C123', 'E46', 'G6', 'C103', 'D56', 'A6', 'C23 C25 C27',\n",
       "       'D33', 'B30', 'C83', 'F33', 'F G73', 'E31', 'A5', 'D10 D12', 'D26',\n",
       "       'C110', 'B58 B60', 'E101', 'D47', 'B86', 'F2', 'C2', 'B19', 'A7',\n",
       "       'C49', 'F4', 'B4', 'B80', 'A31', 'D36', 'D15', 'C93', 'C78', 'D35',\n",
       "       'C87', 'B77', 'E67', 'B94', 'C125', 'C99', 'C118', 'D7', 'B49',\n",
       "       'D', 'C22 C26', 'C65', 'E36', 'C54', 'B57 B59 B63 B66', 'C7',\n",
       "       'E34', 'C32', 'B18', 'C124', 'C91', 'E40', 'T', 'E33', 'D37',\n",
       "       'B35', 'E50', 'C82', 'B96 B98', 'E10', 'C52', 'E44', 'A34', 'C104',\n",
       "       'C111', 'C92', 'E38', 'E12', 'E63', 'B37', 'C30', 'D20', 'B79',\n",
       "       'E25', 'D46', 'B73', 'B38', 'B39', 'B22', 'C86', 'C70', 'A16',\n",
       "       'C101', 'C68', 'A10', 'E68', 'B41', 'A20', 'D19', 'D50', 'D9',\n",
       "       'A23', 'B50', 'A26', 'D48', 'E58', 'B71', 'B51 B53 B55', 'D49',\n",
       "       'B5', 'B20', 'F G63', 'C62 C64', 'E24', 'C90', 'C126', 'C45', 'E8',\n",
       "       'B101', 'C46', 'D30', 'E121', 'D11', 'E77', 'B3', 'D6', 'B82 B84',\n",
       "       'D17', 'A36', 'B69', 'E49', 'D28', 'E17', 'A24', 'C50', 'B42',\n",
       "       'C148', 'B45', 'B36', 'A21', 'A9', 'C31', 'B61', 'C53', 'D43',\n",
       "       'C130', 'C132', 'C55 C57', 'C116', 'F', 'A29', 'C6', 'C28', 'C51',\n",
       "       'C97', 'D22', 'B10', 'E45', 'E52', 'A11', 'B11', 'C80', 'D21',\n",
       "       'C89', 'B26', 'B78', 'F E57', 'A18', 'C106', 'E60', 'E39 E41',\n",
       "       'B52 B54 B56', 'C39', 'B24', 'D40', 'D38', 'C105'], dtype=object)"
      ]
     },
     "execution_count": 14,
     "metadata": {},
     "output_type": "execute_result"
    }
   ],
   "source": [
    "df_not_nan['Cabin'].unique()"
   ]
  },
  {
   "cell_type": "markdown",
   "id": "8f481754",
   "metadata": {
    "papermill": {
     "duration": 0.016128,
     "end_time": "2022-10-19T11:56:55.224611",
     "exception": false,
     "start_time": "2022-10-19T11:56:55.208483",
     "status": "completed"
    },
    "tags": []
   },
   "source": [
    "Não, eles não seguem um padrão, isto faz com que tenhamos problemas ao identificar a letra e o numero da cabine, por isso é interessante criarmos mais três features:\n",
    "\n",
    "* Uma que descreve a quantidade de cabinas compradas\n",
    "* Uma que identifica a letra majoritaria das cabines\n",
    "* Uma que verifica o numero das cabines\n",
    "\n",
    "No entanto, só possuimos 204 registros das cabines, isto faz com que tenhamos muitos dados faltantes, para isso vamos preencher estas informações e verificar se os dados não preechido equivales ao numero de pessoas que sobreviveram ou não"
   ]
  },
  {
   "cell_type": "code",
   "execution_count": 15,
   "id": "6cc905a5",
   "metadata": {
    "execution": {
     "iopub.execute_input": "2022-10-19T11:56:55.260680Z",
     "iopub.status.busy": "2022-10-19T11:56:55.259931Z",
     "iopub.status.idle": "2022-10-19T11:56:55.271636Z",
     "shell.execute_reply": "2022-10-19T11:56:55.270828Z"
    },
    "papermill": {
     "duration": 0.032666,
     "end_time": "2022-10-19T11:56:55.273721",
     "exception": false,
     "start_time": "2022-10-19T11:56:55.241055",
     "status": "completed"
    },
    "tags": []
   },
   "outputs": [
    {
     "data": {
      "text/plain": [
       "0    1014\n",
       "1     254\n",
       "2      26\n",
       "3      10\n",
       "4       5\n",
       "Name: Cabin_amt, dtype: int64"
      ]
     },
     "execution_count": 15,
     "metadata": {},
     "output_type": "execute_result"
    }
   ],
   "source": [
    "df['Cabin_amt'] = df['Cabin'].apply(lambda x: len(x.split()) if pd.notna(x) else 0)\n",
    "df['Cabin_amt'].value_counts()"
   ]
  },
  {
   "cell_type": "code",
   "execution_count": 16,
   "id": "1601baa0",
   "metadata": {
    "execution": {
     "iopub.execute_input": "2022-10-19T11:56:55.308752Z",
     "iopub.status.busy": "2022-10-19T11:56:55.308055Z",
     "iopub.status.idle": "2022-10-19T11:56:55.551546Z",
     "shell.execute_reply": "2022-10-19T11:56:55.550268Z"
    },
    "papermill": {
     "duration": 0.263748,
     "end_time": "2022-10-19T11:56:55.553921",
     "exception": false,
     "start_time": "2022-10-19T11:56:55.290173",
     "status": "completed"
    },
    "tags": []
   },
   "outputs": [
    {
     "data": {
      "image/png": "[encoded data removed]",
      "text/plain": [
       "<Figure size 842.4x595.44 with 1 Axes>"
      ]
     },
     "metadata": {},
     "output_type": "display_data"
    }
   ],
   "source": [
    "sns.barplot(data=df,y='Survived',x='Cabin_amt', ci=None)\n",
    "plt.show()"
   ]
  },
  {
   "cell_type": "code",
   "execution_count": 17,
   "id": "c8c455c2",
   "metadata": {
    "execution": {
     "iopub.execute_input": "2022-10-19T11:56:55.589614Z",
     "iopub.status.busy": "2022-10-19T11:56:55.589147Z",
     "iopub.status.idle": "2022-10-19T11:56:55.601070Z",
     "shell.execute_reply": "2022-10-19T11:56:55.600159Z"
    },
    "papermill": {
     "duration": 0.031917,
     "end_time": "2022-10-19T11:56:55.603046",
     "exception": false,
     "start_time": "2022-10-19T11:56:55.571129",
     "status": "completed"
    },
    "tags": []
   },
   "outputs": [
    {
     "data": {
      "text/plain": [
       "X    1014\n",
       "C      94\n",
       "B      65\n",
       "D      46\n",
       "E      41\n",
       "A      22\n",
       "F      21\n",
       "G       5\n",
       "T       1\n",
       "Name: Cabin_initial, dtype: int64"
      ]
     },
     "execution_count": 17,
     "metadata": {},
     "output_type": "execute_result"
    }
   ],
   "source": [
    "df['Cabin_initial'] = df['Cabin'].apply(lambda x: x[0] if pd.notna(x) else 'X')\n",
    "df['Cabin_initial'].value_counts()"
   ]
  },
  {
   "cell_type": "code",
   "execution_count": 18,
   "id": "b4f558fc",
   "metadata": {
    "execution": {
     "iopub.execute_input": "2022-10-19T11:56:55.639299Z",
     "iopub.status.busy": "2022-10-19T11:56:55.638046Z",
     "iopub.status.idle": "2022-10-19T11:56:55.894539Z",
     "shell.execute_reply": "2022-10-19T11:56:55.893489Z"
    },
    "papermill": {
     "duration": 0.277226,
     "end_time": "2022-10-19T11:56:55.897173",
     "exception": false,
     "start_time": "2022-10-19T11:56:55.619947",
     "status": "completed"
    },
    "tags": []
   },
   "outputs": [
    {
     "data": {
      "image/png": "[encoded data removed]",
      "text/plain": [
       "<Figure size 842.4x595.44 with 1 Axes>"
      ]
     },
     "metadata": {},
     "output_type": "display_data"
    }
   ],
   "source": [
    "sns.barplot(data=df,y='Survived',x='Cabin_initial', ci=None)\n",
    "plt.show()"
   ]
  },
  {
   "cell_type": "code",
   "execution_count": 19,
   "id": "585c0cc3",
   "metadata": {
    "execution": {
     "iopub.execute_input": "2022-10-19T11:56:55.933695Z",
     "iopub.status.busy": "2022-10-19T11:56:55.933273Z",
     "iopub.status.idle": "2022-10-19T11:56:55.939838Z",
     "shell.execute_reply": "2022-10-19T11:56:55.938580Z"
    },
    "papermill": {
     "duration": 0.027033,
     "end_time": "2022-10-19T11:56:55.941850",
     "exception": false,
     "start_time": "2022-10-19T11:56:55.914817",
     "status": "completed"
    },
    "tags": []
   },
   "outputs": [],
   "source": [
    "def get_number(cabin):\n",
    "    if pd.notna(cabin):\n",
    "        l = re.sub(r'[^\\d ]+','',cabin).lower().split()\n",
    "        if len(l) == 0:\n",
    "            return 0\n",
    "        else:\n",
    "            return int(l[0])\n",
    "    else:\n",
    "        return 0"
   ]
  },
  {
   "cell_type": "code",
   "execution_count": 20,
   "id": "d152391a",
   "metadata": {
    "execution": {
     "iopub.execute_input": "2022-10-19T11:56:55.978649Z",
     "iopub.status.busy": "2022-10-19T11:56:55.978014Z",
     "iopub.status.idle": "2022-10-19T11:56:55.991852Z",
     "shell.execute_reply": "2022-10-19T11:56:55.990750Z"
    },
    "papermill": {
     "duration": 0.034975,
     "end_time": "2022-10-19T11:56:55.994115",
     "exception": false,
     "start_time": "2022-10-19T11:56:55.959140",
     "status": "completed"
    },
    "tags": []
   },
   "outputs": [
    {
     "data": {
      "text/plain": [
       "count    1309.000000\n",
       "mean       10.954163\n",
       "std        26.050751\n",
       "min         0.000000\n",
       "25%         0.000000\n",
       "50%         0.000000\n",
       "75%         0.000000\n",
       "max       148.000000\n",
       "Name: Cabin_number, dtype: float64"
      ]
     },
     "execution_count": 20,
     "metadata": {},
     "output_type": "execute_result"
    }
   ],
   "source": [
    "df['Cabin_number'] = df['Cabin'].apply(lambda x: get_number(x))\n",
    "df['Cabin_number'].describe()"
   ]
  },
  {
   "cell_type": "code",
   "execution_count": 21,
   "id": "dd8a2346",
   "metadata": {
    "execution": {
     "iopub.execute_input": "2022-10-19T11:56:56.030691Z",
     "iopub.status.busy": "2022-10-19T11:56:56.030008Z",
     "iopub.status.idle": "2022-10-19T11:56:56.252324Z",
     "shell.execute_reply": "2022-10-19T11:56:56.249415Z"
    },
    "papermill": {
     "duration": 0.244687,
     "end_time": "2022-10-19T11:56:56.256090",
     "exception": false,
     "start_time": "2022-10-19T11:56:56.011403",
     "status": "completed"
    },
    "tags": []
   },
   "outputs": [
    {
     "data": {
      "image/png": "[encoded data removed]",
      "text/plain": [
       "<Figure size 842.4x595.44 with 1 Axes>"
      ]
     },
     "metadata": {},
     "output_type": "display_data"
    }
   ],
   "source": [
    "sns.barplot(data=df,x='Survived',y='Cabin_number', ci=None)\n",
    "plt.show()"
   ]
  },
  {
   "cell_type": "markdown",
   "id": "4e675c7c",
   "metadata": {
    "papermill": {
     "duration": 0.024143,
     "end_time": "2022-10-19T11:56:56.301625",
     "exception": false,
     "start_time": "2022-10-19T11:56:56.277482",
     "status": "completed"
    },
    "tags": []
   },
   "source": [
    "Podemos perceber que as features extraídas se relacionam a label 'Survived', isto faz com que tenhamos mais informações para treinarmos nosso modelo de classificação, percebemos também que a maioria das pessoas que não possuem cabine, consequentemente não sobreviveram, é interessante perceber isso pois parece que quanto mais informal é uma pessoa, menos informações ela possui."
   ]
  },
  {
   "cell_type": "code",
   "execution_count": 22,
   "id": "36179c5d",
   "metadata": {
    "execution": {
     "iopub.execute_input": "2022-10-19T11:56:56.352470Z",
     "iopub.status.busy": "2022-10-19T11:56:56.351654Z",
     "iopub.status.idle": "2022-10-19T11:56:56.368178Z",
     "shell.execute_reply": "2022-10-19T11:56:56.367361Z"
    },
    "papermill": {
     "duration": 0.046559,
     "end_time": "2022-10-19T11:56:56.372018",
     "exception": false,
     "start_time": "2022-10-19T11:56:56.325459",
     "status": "completed"
    },
    "tags": []
   },
   "outputs": [
    {
     "name": "stdout",
     "output_type": "stream",
     "text": [
      "<class 'pandas.core.frame.DataFrame'>\n",
      "Int64Index: 1309 entries, 0 to 417\n",
      "Data columns (total 16 columns):\n",
      " #   Column         Non-Null Count  Dtype  \n",
      "---  ------         --------------  -----  \n",
      " 0   PassengerId    1309 non-null   int64  \n",
      " 1   Survived       1309 non-null   int64  \n",
      " 2   Pclass         1309 non-null   int64  \n",
      " 3   Name           1309 non-null   object \n",
      " 4   Sex            1309 non-null   object \n",
      " 5   Age            1309 non-null   float64\n",
      " 6   SibSp          1309 non-null   int64  \n",
      " 7   Parch          1309 non-null   int64  \n",
      " 8   Ticket         1309 non-null   object \n",
      " 9   Fare           1308 non-null   float64\n",
      " 10  Cabin          295 non-null    object \n",
      " 11  Embarked       1307 non-null   object \n",
      " 12  Abrev          1309 non-null   object \n",
      " 13  Cabin_amt      1309 non-null   int64  \n",
      " 14  Cabin_initial  1309 non-null   object \n",
      " 15  Cabin_number   1309 non-null   int64  \n",
      "dtypes: float64(2), int64(7), object(7)\n",
      "memory usage: 206.1+ KB\n"
     ]
    }
   ],
   "source": [
    "df.info()"
   ]
  },
  {
   "cell_type": "markdown",
   "id": "bd74704b",
   "metadata": {
    "papermill": {
     "duration": 0.018123,
     "end_time": "2022-10-19T11:56:56.409149",
     "exception": false,
     "start_time": "2022-10-19T11:56:56.391026",
     "status": "completed"
    },
    "tags": []
   },
   "source": [
    "Percebemos que ainda temos valores faltantes na coluna 'Cabin', porém não vamos utilizá-la no treinamento, usando apenas suas features\n",
    "\n",
    "A partir das colunas categóricas, verificamos já duas, 'Cabin' e 'Name', vamos continuar verificando quais informações podem ser extraídas das colunas categoricas que possuimos"
   ]
  },
  {
   "cell_type": "markdown",
   "id": "1df91846",
   "metadata": {
    "papermill": {
     "duration": 0.017712,
     "end_time": "2022-10-19T11:56:56.445530",
     "exception": false,
     "start_time": "2022-10-19T11:56:56.427818",
     "status": "completed"
    },
    "tags": []
   },
   "source": [
    "### Sex column"
   ]
  },
  {
   "cell_type": "code",
   "execution_count": 23,
   "id": "02ed4fb8",
   "metadata": {
    "execution": {
     "iopub.execute_input": "2022-10-19T11:56:56.483501Z",
     "iopub.status.busy": "2022-10-19T11:56:56.482789Z",
     "iopub.status.idle": "2022-10-19T11:56:56.488754Z",
     "shell.execute_reply": "2022-10-19T11:56:56.487516Z"
    },
    "papermill": {
     "duration": 0.027205,
     "end_time": "2022-10-19T11:56:56.491029",
     "exception": false,
     "start_time": "2022-10-19T11:56:56.463824",
     "status": "completed"
    },
    "tags": []
   },
   "outputs": [
    {
     "name": "stdout",
     "output_type": "stream",
     "text": [
      "['male' 'female']\n"
     ]
    }
   ],
   "source": [
    "print(df['Sex'].unique())"
   ]
  },
  {
   "cell_type": "markdown",
   "id": "88cff7f5",
   "metadata": {
    "papermill": {
     "duration": 0.018115,
     "end_time": "2022-10-19T11:56:56.526871",
     "exception": false,
     "start_time": "2022-10-19T11:56:56.508756",
     "status": "completed"
    },
    "tags": []
   },
   "source": [
    "Percebe-se que temos corretamente os sexos, vamos convertê-los para binário"
   ]
  },
  {
   "cell_type": "code",
   "execution_count": 24,
   "id": "08d18df2",
   "metadata": {
    "execution": {
     "iopub.execute_input": "2022-10-19T11:56:56.564072Z",
     "iopub.status.busy": "2022-10-19T11:56:56.563659Z",
     "iopub.status.idle": "2022-10-19T11:56:56.571330Z",
     "shell.execute_reply": "2022-10-19T11:56:56.570209Z"
    },
    "papermill": {
     "duration": 0.029113,
     "end_time": "2022-10-19T11:56:56.573931",
     "exception": false,
     "start_time": "2022-10-19T11:56:56.544818",
     "status": "completed"
    },
    "tags": []
   },
   "outputs": [],
   "source": [
    "sex = {'male':0,'female':1}\n",
    "df['Sex'] = df['Sex'].apply(lambda x: sex[x])"
   ]
  },
  {
   "cell_type": "code",
   "execution_count": 25,
   "id": "ff05a3cc",
   "metadata": {
    "execution": {
     "iopub.execute_input": "2022-10-19T11:56:56.613007Z",
     "iopub.status.busy": "2022-10-19T11:56:56.612199Z",
     "iopub.status.idle": "2022-10-19T11:56:56.618657Z",
     "shell.execute_reply": "2022-10-19T11:56:56.617209Z"
    },
    "papermill": {
     "duration": 0.029007,
     "end_time": "2022-10-19T11:56:56.621142",
     "exception": false,
     "start_time": "2022-10-19T11:56:56.592135",
     "status": "completed"
    },
    "tags": []
   },
   "outputs": [
    {
     "name": "stdout",
     "output_type": "stream",
     "text": [
      "[0 1]\n"
     ]
    }
   ],
   "source": [
    "print(df['Sex'].unique())"
   ]
  },
  {
   "cell_type": "markdown",
   "id": "ab0ad80e",
   "metadata": {
    "papermill": {
     "duration": 0.01831,
     "end_time": "2022-10-19T11:56:56.657490",
     "exception": false,
     "start_time": "2022-10-19T11:56:56.639180",
     "status": "completed"
    },
    "tags": []
   },
   "source": [
    "### Embarked column"
   ]
  },
  {
   "cell_type": "code",
   "execution_count": 26,
   "id": "71f660db",
   "metadata": {
    "execution": {
     "iopub.execute_input": "2022-10-19T11:56:56.695512Z",
     "iopub.status.busy": "2022-10-19T11:56:56.695109Z",
     "iopub.status.idle": "2022-10-19T11:56:56.701150Z",
     "shell.execute_reply": "2022-10-19T11:56:56.700016Z"
    },
    "papermill": {
     "duration": 0.027968,
     "end_time": "2022-10-19T11:56:56.703885",
     "exception": false,
     "start_time": "2022-10-19T11:56:56.675917",
     "status": "completed"
    },
    "tags": []
   },
   "outputs": [
    {
     "name": "stdout",
     "output_type": "stream",
     "text": [
      "['S' 'C' 'Q' nan]\n"
     ]
    }
   ],
   "source": [
    "print(df['Embarked'].unique())"
   ]
  },
  {
   "cell_type": "markdown",
   "id": "43a1d4d4",
   "metadata": {
    "execution": {
     "iopub.execute_input": "2022-10-02T15:10:07.139076Z",
     "iopub.status.busy": "2022-10-02T15:10:07.138575Z",
     "iopub.status.idle": "2022-10-02T15:10:07.147201Z",
     "shell.execute_reply": "2022-10-02T15:10:07.145515Z",
     "shell.execute_reply.started": "2022-10-02T15:10:07.139032Z"
    },
    "papermill": {
     "duration": 0.017508,
     "end_time": "2022-10-19T11:56:56.739593",
     "exception": false,
     "start_time": "2022-10-19T11:56:56.722085",
     "status": "completed"
    },
    "tags": []
   },
   "source": [
    "Podemos ver que temos alguns valores nulos, vamos verificar a quantidade para saber se podemos tratar ou não"
   ]
  },
  {
   "cell_type": "code",
   "execution_count": 27,
   "id": "7e47cdf7",
   "metadata": {
    "execution": {
     "iopub.execute_input": "2022-10-19T11:56:56.777146Z",
     "iopub.status.busy": "2022-10-19T11:56:56.776747Z",
     "iopub.status.idle": "2022-10-19T11:56:56.782659Z",
     "shell.execute_reply": "2022-10-19T11:56:56.781573Z"
    },
    "papermill": {
     "duration": 0.0286,
     "end_time": "2022-10-19T11:56:56.785773",
     "exception": false,
     "start_time": "2022-10-19T11:56:56.757173",
     "status": "completed"
    },
    "tags": []
   },
   "outputs": [
    {
     "name": "stdout",
     "output_type": "stream",
     "text": [
      "2\n"
     ]
    }
   ],
   "source": [
    "print(df['Embarked'].isna().sum())"
   ]
  },
  {
   "cell_type": "markdown",
   "id": "83dfb1cd",
   "metadata": {
    "papermill": {
     "duration": 0.018423,
     "end_time": "2022-10-19T11:56:56.822727",
     "exception": false,
     "start_time": "2022-10-19T11:56:56.804304",
     "status": "completed"
    },
    "tags": []
   },
   "source": [
    "Temos apenas 2 valores nulos, quantidade que é indiferente com a quantidade de dados que possuimos, então vamos preencher com o mais presente"
   ]
  },
  {
   "cell_type": "code",
   "execution_count": 28,
   "id": "2c6bbe53",
   "metadata": {
    "execution": {
     "iopub.execute_input": "2022-10-19T11:56:56.860672Z",
     "iopub.status.busy": "2022-10-19T11:56:56.860024Z",
     "iopub.status.idle": "2022-10-19T11:56:56.869530Z",
     "shell.execute_reply": "2022-10-19T11:56:56.868307Z"
    },
    "papermill": {
     "duration": 0.031276,
     "end_time": "2022-10-19T11:56:56.871966",
     "exception": false,
     "start_time": "2022-10-19T11:56:56.840690",
     "status": "completed"
    },
    "tags": []
   },
   "outputs": [
    {
     "data": {
      "text/plain": [
       "count     1307\n",
       "unique       3\n",
       "top          S\n",
       "freq       914\n",
       "Name: Embarked, dtype: object"
      ]
     },
     "execution_count": 28,
     "metadata": {},
     "output_type": "execute_result"
    }
   ],
   "source": [
    "df['Embarked'].describe()"
   ]
  },
  {
   "cell_type": "code",
   "execution_count": 29,
   "id": "0c83c50c",
   "metadata": {
    "execution": {
     "iopub.execute_input": "2022-10-19T11:56:56.910398Z",
     "iopub.status.busy": "2022-10-19T11:56:56.909748Z",
     "iopub.status.idle": "2022-10-19T11:56:56.925303Z",
     "shell.execute_reply": "2022-10-19T11:56:56.923694Z"
    },
    "papermill": {
     "duration": 0.037919,
     "end_time": "2022-10-19T11:56:56.927967",
     "exception": false,
     "start_time": "2022-10-19T11:56:56.890048",
     "status": "completed"
    },
    "tags": []
   },
   "outputs": [
    {
     "name": "stdout",
     "output_type": "stream",
     "text": [
      "<class 'pandas.core.frame.DataFrame'>\n",
      "Int64Index: 1309 entries, 0 to 417\n",
      "Data columns (total 16 columns):\n",
      " #   Column         Non-Null Count  Dtype  \n",
      "---  ------         --------------  -----  \n",
      " 0   PassengerId    1309 non-null   int64  \n",
      " 1   Survived       1309 non-null   int64  \n",
      " 2   Pclass         1309 non-null   int64  \n",
      " 3   Name           1309 non-null   object \n",
      " 4   Sex            1309 non-null   int64  \n",
      " 5   Age            1309 non-null   float64\n",
      " 6   SibSp          1309 non-null   int64  \n",
      " 7   Parch          1309 non-null   int64  \n",
      " 8   Ticket         1309 non-null   object \n",
      " 9   Fare           1308 non-null   float64\n",
      " 10  Cabin          295 non-null    object \n",
      " 11  Embarked       1309 non-null   object \n",
      " 12  Abrev          1309 non-null   object \n",
      " 13  Cabin_amt      1309 non-null   int64  \n",
      " 14  Cabin_initial  1309 non-null   object \n",
      " 15  Cabin_number   1309 non-null   int64  \n",
      "dtypes: float64(2), int64(8), object(6)\n",
      "memory usage: 206.1+ KB\n"
     ]
    }
   ],
   "source": [
    "df['Embarked'] = df['Embarked'].fillna('S')\n",
    "df.info()"
   ]
  },
  {
   "cell_type": "markdown",
   "id": "78f5516a",
   "metadata": {
    "papermill": {
     "duration": 0.017657,
     "end_time": "2022-10-19T11:56:56.963741",
     "exception": false,
     "start_time": "2022-10-19T11:56:56.946084",
     "status": "completed"
    },
    "tags": []
   },
   "source": [
    "### Ticket column"
   ]
  },
  {
   "cell_type": "code",
   "execution_count": 30,
   "id": "0922fcbc",
   "metadata": {
    "execution": {
     "iopub.execute_input": "2022-10-19T11:56:57.001731Z",
     "iopub.status.busy": "2022-10-19T11:56:57.001064Z",
     "iopub.status.idle": "2022-10-19T11:56:57.011762Z",
     "shell.execute_reply": "2022-10-19T11:56:57.009406Z"
    },
    "papermill": {
     "duration": 0.032321,
     "end_time": "2022-10-19T11:56:57.014205",
     "exception": false,
     "start_time": "2022-10-19T11:56:56.981884",
     "status": "completed"
    },
    "tags": []
   },
   "outputs": [
    {
     "name": "stdout",
     "output_type": "stream",
     "text": [
      "['A/5 21171' 'PC 17599' 'STON/O2. 3101282' '113803' '373450' '330877'\n",
      " '17463' '349909' '347742' '237736' 'PP 9549' '113783' 'A/5. 2151'\n",
      " '347082' '350406' '248706' '382652' '244373' '345763' '2649' '239865'\n",
      " '248698' '330923' '113788' '347077' '2631' '19950' '330959' '349216'\n",
      " 'PC 17601' 'PC 17569' '335677' 'C.A. 24579' 'PC 17604' '113789' '2677'\n",
      " 'A./5. 2152' '345764' '2651' '7546' '11668' '349253' 'SC/Paris 2123'\n",
      " '330958' 'S.C./A.4. 23567' '370371' '14311' '2662' '349237' '3101295'\n",
      " 'A/4. 39886' 'PC 17572' '2926' '113509' '19947' 'C.A. 31026' '2697'\n",
      " 'C.A. 34651' 'CA 2144' '2669' '113572' '36973' '347088' 'PC 17605' '2661'\n",
      " 'C.A. 29395' 'S.P. 3464' '3101281' '315151' 'C.A. 33111' 'S.O.C. 14879'\n",
      " '2680' '1601' '348123' '349208' '374746' '248738' '364516' '345767'\n",
      " '345779' '330932' '113059' 'SO/C 14885' '3101278' 'W./C. 6608'\n",
      " 'SOTON/OQ 392086' '343275' '343276' '347466' 'W.E.P. 5734' 'C.A. 2315'\n",
      " '364500' '374910' 'PC 17754' 'PC 17759' '231919' '244367' '349245'\n",
      " '349215' '35281' '7540' '3101276' '349207' '343120' '312991' '349249'\n",
      " '371110' '110465' '2665' '324669' '4136' '2627' 'STON/O 2. 3101294'\n",
      " '370369' 'PC 17558' 'A4. 54510' '27267' '370372' 'C 17369' '2668'\n",
      " '347061' '349241' 'SOTON/O.Q. 3101307' 'A/5. 3337' '228414' 'C.A. 29178'\n",
      " 'SC/PARIS 2133' '11752' '7534' 'PC 17593' '2678' '347081'\n",
      " 'STON/O2. 3101279' '365222' '231945' 'C.A. 33112' '350043' '230080'\n",
      " '244310' 'S.O.P. 1166' '113776' 'A.5. 11206' 'A/5. 851' 'Fa 265302'\n",
      " 'PC 17597' '35851' 'SOTON/OQ 392090' '315037' 'CA. 2343' '371362'\n",
      " 'C.A. 33595' '347068' '315093' '363291' '113505' 'PC 17318' '111240'\n",
      " 'STON/O 2. 3101280' '17764' '350404' '4133' 'PC 17595' '250653' 'LINE'\n",
      " 'SC/PARIS 2131' '230136' '315153' '113767' '370365' '111428' '364849'\n",
      " '349247' '234604' '28424' '350046' 'PC 17610' '368703' '4579' '370370'\n",
      " '248747' '345770' '3101264' '2628' 'A/5 3540' '347054' '2699' '367231'\n",
      " '112277' 'SOTON/O.Q. 3101311' 'F.C.C. 13528' 'A/5 21174' '250646'\n",
      " '367229' '35273' 'STON/O2. 3101283' '243847' '11813' 'W/C 14208'\n",
      " 'SOTON/OQ 392089' '220367' '21440' '349234' '19943' 'PP 4348' 'SW/PP 751'\n",
      " 'A/5 21173' '236171' '347067' '237442' 'C.A. 29566' 'W./C. 6609' '26707'\n",
      " 'C.A. 31921' '28665' 'SCO/W 1585' '367230' 'W./C. 14263'\n",
      " 'STON/O 2. 3101275' '2694' '19928' '347071' '250649' '11751' '244252'\n",
      " '362316' '113514' 'A/5. 3336' '370129' '2650' 'PC 17585' '110152'\n",
      " 'PC 17755' '230433' '384461' '110413' '112059' '382649' 'C.A. 17248'\n",
      " '347083' 'PC 17582' 'PC 17760' '113798' '250644' 'PC 17596' '370375'\n",
      " '13502' '347073' '239853' 'C.A. 2673' '336439' '347464' '345778'\n",
      " 'A/5. 10482' '113056' '349239' '345774' '349206' '237798' '370373'\n",
      " '19877' '11967' 'SC/Paris 2163' '349236' '349233' 'PC 17612' '2693'\n",
      " '113781' '19988' '9234' '367226' '226593' 'A/5 2466' '17421' 'PC 17758'\n",
      " 'P/PP 3381' 'PC 17485' '11767' 'PC 17608' '250651' '349243'\n",
      " 'F.C.C. 13529' '347470' '29011' '36928' '16966' 'A/5 21172' '349219'\n",
      " '234818' '345364' '28551' '111361' '113043' 'PC 17611' '349225' '7598'\n",
      " '113784' '248740' '244361' '229236' '248733' '31418' '386525'\n",
      " 'C.A. 37671' '315088' '7267' '113510' '2695' '2647' '345783' '237671'\n",
      " '330931' '330980' 'SC/PARIS 2167' '2691' 'SOTON/O.Q. 3101310' 'C 7076'\n",
      " '110813' '2626' '14313' 'PC 17477' '11765' '3101267' '323951' 'C 7077'\n",
      " '113503' '2648' '347069' 'PC 17757' '2653' 'STON/O 2. 3101293' '349227'\n",
      " '27849' '367655' 'SC 1748' '113760' '350034' '3101277' '350052' '350407'\n",
      " '28403' '244278' '240929' 'STON/O 2. 3101289' '341826' '4137' '315096'\n",
      " '28664' '347064' '29106' '312992' '349222' '394140' 'STON/O 2. 3101269'\n",
      " '343095' '28220' '250652' '28228' '345773' '349254' 'A/5. 13032' '315082'\n",
      " '347080' 'A/4. 34244' '2003' '250655' '364851' 'SOTON/O.Q. 392078'\n",
      " '110564' '376564' 'SC/AH 3085' 'STON/O 2. 3101274' '13507' 'C.A. 18723'\n",
      " '345769' '347076' '230434' '65306' '33638' '113794' '2666' '113786'\n",
      " '65303' '113051' '17453' 'A/5 2817' '349240' '13509' '17464'\n",
      " 'F.C.C. 13531' '371060' '19952' '364506' '111320' '234360' 'A/S 2816'\n",
      " 'SOTON/O.Q. 3101306' '113792' '36209' '323592' '315089' 'SC/AH Basle 541'\n",
      " '7553' '31027' '3460' '350060' '3101298' '239854' 'A/5 3594' '4134'\n",
      " '11771' 'A.5. 18509' '65304' 'SOTON/OQ 3101317' '113787' 'PC 17609'\n",
      " 'A/4 45380' '36947' 'C.A. 6212' '350035' '315086' '364846' '330909'\n",
      " '4135' '26360' '111427' 'C 4001' '382651' 'SOTON/OQ 3101316' 'PC 17473'\n",
      " 'PC 17603' '349209' '36967' 'C.A. 34260' '226875' '349242' '12749'\n",
      " '349252' '2624' '2700' '367232' 'W./C. 14258' 'PC 17483' '3101296'\n",
      " '29104' '2641' '2690' '315084' '113050' 'PC 17761' '364498' '13568'\n",
      " 'WE/P 5735' '2908' '693' 'SC/PARIS 2146' '244358' '330979' '2620'\n",
      " '347085' '113807' '11755' '345572' '372622' '349251' '218629'\n",
      " 'SOTON/OQ 392082' 'SOTON/O.Q. 392087' 'A/4 48871' '349205' '2686'\n",
      " '350417' 'S.W./PP 752' '11769' 'PC 17474' '14312' 'A/4. 20589' '358585'\n",
      " '243880' '2689' 'STON/O 2. 3101286' '237789' '13049' '3411' '237565'\n",
      " '13567' '14973' 'A./5. 3235' 'STON/O 2. 3101273' 'A/5 3902' '364848'\n",
      " 'SC/AH 29037' '248727' '2664' '349214' '113796' '364511' '111426'\n",
      " '349910' '349246' '113804' 'SOTON/O.Q. 3101305' '370377' '364512'\n",
      " '220845' '31028' '2659' '11753' '350029' '54636' '36963' '219533'\n",
      " '349224' '334912' '27042' '347743' '13214' '112052' '237668'\n",
      " 'STON/O 2. 3101292' '350050' '349231' '13213' 'S.O./P.P. 751' 'CA. 2314'\n",
      " '349221' '8475' '330919' '365226' '349223' '29751' '2623' '5727' '349210'\n",
      " 'STON/O 2. 3101285' '234686' '312993' 'A/5 3536' '19996' '29750'\n",
      " 'F.C. 12750' 'C.A. 24580' '244270' '239856' '349912' '342826' '4138'\n",
      " '330935' '6563' '349228' '350036' '24160' '17474' '349256' '2672'\n",
      " '113800' '248731' '363592' '35852' '348121' 'PC 17475' '36864' '350025'\n",
      " '223596' 'PC 17476' 'PC 17482' '113028' '7545' '250647' '348124' '34218'\n",
      " '36568' '347062' '350048' '12233' '250643' '113806' '315094' '36866'\n",
      " '236853' 'STON/O2. 3101271' '239855' '28425' '233639' '349201' '349218'\n",
      " '16988' '376566' 'STON/O 2. 3101288' '250648' '113773' '335097' '29103'\n",
      " '392096' '345780' '349204' '350042' '29108' '363294' 'SOTON/O2 3101272'\n",
      " '2663' '347074' '112379' '364850' '8471' '345781' '350047' 'S.O./P.P. 3'\n",
      " '2674' '29105' '347078' '383121' '36865' '2687' '113501' 'W./C. 6607'\n",
      " 'SOTON/O.Q. 3101312' '374887' '3101265' '12460' 'PC 17600' '349203'\n",
      " '28213' '17465' '349244' '2685' '2625' '347089' '347063' '112050'\n",
      " '347087' '248723' '3474' '28206' '364499' '112058' 'STON/O2. 3101290'\n",
      " 'S.C./PARIS 2079' 'C 7075' '315098' '19972' '368323' '367228' '2671'\n",
      " '347468' '2223' 'PC 17756' '315097' '392092' '11774' 'SOTON/O2 3101287'\n",
      " '2683' '315090' 'C.A. 5547' '349213' '347060' 'PC 17592' '392091'\n",
      " '113055' '2629' '350026' '28134' '17466' '233866' '236852'\n",
      " 'SC/PARIS 2149' 'PC 17590' '345777' '349248' '695' '345765' '2667'\n",
      " '349212' '349217' '349257' '7552' 'C.A./SOTON 34068' 'SOTON/OQ 392076'\n",
      " '211536' '112053' '111369' '370376' '330911' '363272' '240276' '315154'\n",
      " '7538' '330972' '2657' '349220' '694' '21228' '24065' '233734' '2692'\n",
      " 'STON/O2. 3101270' '2696' 'C 17368' 'PC 17598' '2698' '113054'\n",
      " 'C.A. 31029' '13236' '2682' '342712' '315087' '345768' '113778'\n",
      " 'SOTON/O.Q. 3101263' '237249' 'STON/O 2. 3101291' 'PC 17594' '370374'\n",
      " '13695' 'SC/PARIS 2168' 'SC/A.3 2861' '349230' '348122' '349232' '237216'\n",
      " '347090' '334914' 'F.C.C. 13534' '330963' '2543' '382653' '349211'\n",
      " '3101297' 'PC 17562' '359306' '11770' '248744' '368702' '19924' '349238'\n",
      " '240261' '2660' '330844' 'A/4 31416' '364856' '347072' '345498' '376563'\n",
      " '13905' '350033' 'STON/O 2. 3101268' '347471' 'A./5. 3338' '11778'\n",
      " '365235' '347070' '330920' '383162' '3410' '248734' '237734' '330968'\n",
      " 'PC 17531' '329944' '2681' '13050' '367227' '392095' '368783' '350045'\n",
      " '211535' '342441' 'STON/OQ. 369943' '113780' '2621' '349226' '350409'\n",
      " '2656' '248659' 'SOTON/OQ 392083' '17475' 'SC/A4 23568' '113791' '349255'\n",
      " '3701' '350405' 'S.O./P.P. 752' '347469' '110489' 'SOTON/O.Q. 3101315'\n",
      " '335432' '220844' '343271' '237393' 'PC 17591' '17770' '7548'\n",
      " 'S.O./P.P. 251' '2670' '2673' '233478' '7935' '239059' 'S.O./P.P. 2'\n",
      " 'A/4 48873' '28221' '111163' '235509' '347465' '347066' 'C.A. 31030'\n",
      " '65305' 'C.A. 34050' 'F.C. 12998' '9232' '28034' 'PC 17613' '349250'\n",
      " 'SOTON/O.Q. 3101308' '347091' '113038' '330924' '32302' 'SC/PARIS 2148'\n",
      " '342684' 'W./C. 14266' '350053' 'PC 17606' '350054' '370368' '242963'\n",
      " '113795' '3101266' '330971' '350416' '2679' '250650' '112377' '3470'\n",
      " 'SOTON/O2 3101284' '13508' '7266' '345775' 'C.A. 42795' 'AQ/4 3130'\n",
      " '363611' '28404' '345501' '350410' 'C.A. 34644' '349235' '112051'\n",
      " 'C.A. 49867' 'A. 2. 39186' '315095' '368573' '2676' 'SC 14888' 'CA 31352'\n",
      " 'W./C. 14260' '315085' '364859' 'A/5 21175' 'SOTON/O.Q. 3101314' '2655'\n",
      " 'A/5 1478' 'PC 17607' '382650' '2652' '345771' '349202' '113801' '347467'\n",
      " '347079' '237735' '315092' '383123' '112901' '315091' '2658' 'LP 1588'\n",
      " '368364' 'AQ/3. 30631' '28004' '350408' '347075' '2654' '244368' '113790'\n",
      " 'SOTON/O.Q. 3101309' '236854' 'PC 17580' '2684' '349229' '110469'\n",
      " '244360' '2675' '2622' 'C.A. 15185' '350403' '348125' '237670' '2688'\n",
      " '248726' 'F.C.C. 13540' '113044' '1222' '368402' '315083' '112378'\n",
      " 'SC/PARIS 2147' '28133' '248746' '315152' '29107' '680' '366713' '330910'\n",
      " 'SC/PARIS 2159' '349911' '244346' '364858' 'C.A. 30769' '371109' '347065'\n",
      " '21332' '17765' 'SC/PARIS 2166' '28666' '334915' '365237' '347086'\n",
      " 'A.5. 3236' 'SOTON/O.Q. 3101262' '359309']\n"
     ]
    }
   ],
   "source": [
    "print(df['Ticket'].unique())"
   ]
  },
  {
   "cell_type": "markdown",
   "id": "501d3c90",
   "metadata": {
    "papermill": {
     "duration": 0.017949,
     "end_time": "2022-10-19T11:56:57.050605",
     "exception": false,
     "start_time": "2022-10-19T11:56:57.032656",
     "status": "completed"
    },
    "tags": []
   },
   "source": [
    "Aqui podemos verificar que o ticket parece que segue o mesmo padrão da cabine, então podemos verificar novamente se estes dados tem alguma relação com o fator de sobrevivência:\n",
    "\n",
    "* Vamos primeiro identificar o número\n",
    "* Vamos capturar a informação textual"
   ]
  },
  {
   "cell_type": "code",
   "execution_count": 31,
   "id": "925e7b19",
   "metadata": {
    "execution": {
     "iopub.execute_input": "2022-10-19T11:56:57.089204Z",
     "iopub.status.busy": "2022-10-19T11:56:57.088497Z",
     "iopub.status.idle": "2022-10-19T11:56:57.105346Z",
     "shell.execute_reply": "2022-10-19T11:56:57.104175Z"
    },
    "papermill": {
     "duration": 0.039027,
     "end_time": "2022-10-19T11:56:57.107948",
     "exception": false,
     "start_time": "2022-10-19T11:56:57.068921",
     "status": "completed"
    },
    "tags": []
   },
   "outputs": [
    {
     "data": {
      "text/plain": [
       "count    1.309000e+03\n",
       "mean     2.256340e+05\n",
       "std      5.064299e+05\n",
       "min      0.000000e+00\n",
       "25%      1.176900e+04\n",
       "50%      3.697300e+04\n",
       "75%      3.457770e+05\n",
       "max      3.101317e+06\n",
       "Name: Ticket_number, dtype: float64"
      ]
     },
     "execution_count": 31,
     "metadata": {},
     "output_type": "execute_result"
    }
   ],
   "source": [
    "df['Ticket_number'] = df['Ticket'].apply(lambda x: get_number(x))\n",
    "df['Ticket_number'].describe()"
   ]
  },
  {
   "cell_type": "code",
   "execution_count": 32,
   "id": "8d66ac25",
   "metadata": {
    "execution": {
     "iopub.execute_input": "2022-10-19T11:56:57.148728Z",
     "iopub.status.busy": "2022-10-19T11:56:57.147947Z",
     "iopub.status.idle": "2022-10-19T11:56:57.361214Z",
     "shell.execute_reply": "2022-10-19T11:56:57.360351Z"
    },
    "papermill": {
     "duration": 0.235859,
     "end_time": "2022-10-19T11:56:57.363661",
     "exception": false,
     "start_time": "2022-10-19T11:56:57.127802",
     "status": "completed"
    },
    "tags": []
   },
   "outputs": [
    {
     "data": {
      "image/png": "[encoded data removed]",
      "text/plain": [
       "<Figure size 842.4x595.44 with 1 Axes>"
      ]
     },
     "metadata": {},
     "output_type": "display_data"
    }
   ],
   "source": [
    "sns.barplot(data=df,x='Survived',y='Ticket_number', ci=None)\n",
    "plt.show()"
   ]
  },
  {
   "cell_type": "code",
   "execution_count": 33,
   "id": "c0a26c92",
   "metadata": {
    "execution": {
     "iopub.execute_input": "2022-10-19T11:56:57.403393Z",
     "iopub.status.busy": "2022-10-19T11:56:57.402611Z",
     "iopub.status.idle": "2022-10-19T11:56:57.415109Z",
     "shell.execute_reply": "2022-10-19T11:56:57.414032Z"
    },
    "papermill": {
     "duration": 0.034953,
     "end_time": "2022-10-19T11:56:57.417465",
     "exception": false,
     "start_time": "2022-10-19T11:56:57.382512",
     "status": "completed"
    },
    "tags": []
   },
   "outputs": [
    {
     "data": {
      "text/plain": [
       "X             977\n",
       "PC             92\n",
       "C.A.           46\n",
       "SOTON/O.Q.     16\n",
       "W./C.          14\n",
       "A/5            12\n",
       "CA.            12\n",
       "SC/PARIS       11\n",
       "A/5.           10\n",
       "CA             10\n",
       "F.C.C.          9\n",
       "SOTON/OQ        8\n",
       "C               8\n",
       "S.O.C.          7\n",
       "S.O./P.P.       7\n",
       "STON/O2.        7\n",
       "A/4             6\n",
       "SC/Paris        5\n",
       "SC/AH           4\n",
       "PP              4\n",
       "S.C./PARIS      3\n",
       "F.C.            3\n",
       "A.5.            3\n",
       "A/4.            3\n",
       "A./5.           3\n",
       "SOTON/O2        3\n",
       "SC              2\n",
       "P/PP            2\n",
       "WE/P            2\n",
       "W.E.P.          2\n",
       "C.A./SOTON      1\n",
       "SC/A.3          1\n",
       "SC/A4           1\n",
       "AQ/4            1\n",
       "LP              1\n",
       "STON/OQ.        1\n",
       "Fa              1\n",
       "S.W./PP         1\n",
       "A/S             1\n",
       "SCO/W           1\n",
       "SW/PP           1\n",
       "W/C             1\n",
       "S.O.P.          1\n",
       "A4.             1\n",
       "SO/C            1\n",
       "S.P.            1\n",
       "S.C./A.4.       1\n",
       "AQ/3.           1\n",
       "Name: Ticket_text, dtype: int64"
      ]
     },
     "execution_count": 33,
     "metadata": {},
     "output_type": "execute_result"
    }
   ],
   "source": [
    "df['Ticket_text'] = df['Ticket'].apply(lambda x: x.split()[0] if len(x.split())==2 else 'X')\n",
    "df['Ticket_text'].value_counts()"
   ]
  },
  {
   "cell_type": "code",
   "execution_count": 34,
   "id": "40ca5899",
   "metadata": {
    "execution": {
     "iopub.execute_input": "2022-10-19T11:56:57.458989Z",
     "iopub.status.busy": "2022-10-19T11:56:57.457930Z",
     "iopub.status.idle": "2022-10-19T11:56:58.149824Z",
     "shell.execute_reply": "2022-10-19T11:56:58.148649Z"
    },
    "papermill": {
     "duration": 0.715515,
     "end_time": "2022-10-19T11:56:58.152535",
     "exception": false,
     "start_time": "2022-10-19T11:56:57.437020",
     "status": "completed"
    },
    "tags": []
   },
   "outputs": [
    {
     "data": {
      "image/png": "[encoded data removed]",
      "text/plain": [
       "<Figure size 842.4x595.44 with 1 Axes>"
      ]
     },
     "metadata": {},
     "output_type": "display_data"
    }
   ],
   "source": [
    "sns.barplot(data=df,y='Survived',x='Ticket_text', ci=None)\n",
    "plt.xticks(rotation=45)\n",
    "plt.show()"
   ]
  },
  {
   "cell_type": "markdown",
   "id": "0b7db58a",
   "metadata": {
    "papermill": {
     "duration": 0.019204,
     "end_time": "2022-10-19T11:56:58.191701",
     "exception": false,
     "start_time": "2022-10-19T11:56:58.172497",
     "status": "completed"
    },
    "tags": []
   },
   "source": [
    "Claramente podemos verificar que os dados dos ticket se relacionam diretamente com fator de sobrevivência, isso era claro pois o ticket representa bem a classe que a pessoa possuia, a qual interage diretamente com os dados das cabines"
   ]
  },
  {
   "cell_type": "markdown",
   "id": "e7c418be",
   "metadata": {
    "papermill": {
     "duration": 0.019024,
     "end_time": "2022-10-19T11:56:58.230227",
     "exception": false,
     "start_time": "2022-10-19T11:56:58.211203",
     "status": "completed"
    },
    "tags": []
   },
   "source": [
    "## Colunas numéricas\n",
    "\n",
    "Vamos verificar como a distribuição dos dados numéricos acontence e como podemos lidar com estes valores, primeiramente vamos observar os dados"
   ]
  },
  {
   "cell_type": "code",
   "execution_count": 35,
   "id": "375a4961",
   "metadata": {
    "execution": {
     "iopub.execute_input": "2022-10-19T11:56:58.271333Z",
     "iopub.status.busy": "2022-10-19T11:56:58.270630Z",
     "iopub.status.idle": "2022-10-19T11:56:58.277965Z",
     "shell.execute_reply": "2022-10-19T11:56:58.277183Z"
    },
    "papermill": {
     "duration": 0.030576,
     "end_time": "2022-10-19T11:56:58.280252",
     "exception": false,
     "start_time": "2022-10-19T11:56:58.249676",
     "status": "completed"
    },
    "tags": []
   },
   "outputs": [],
   "source": [
    "df_numeric = df.select_dtypes(include='number')"
   ]
  },
  {
   "cell_type": "code",
   "execution_count": 36,
   "id": "248c22a5",
   "metadata": {
    "execution": {
     "iopub.execute_input": "2022-10-19T11:56:58.321473Z",
     "iopub.status.busy": "2022-10-19T11:56:58.321054Z",
     "iopub.status.idle": "2022-10-19T11:57:02.034015Z",
     "shell.execute_reply": "2022-10-19T11:57:02.032877Z"
    },
    "papermill": {
     "duration": 3.736349,
     "end_time": "2022-10-19T11:57:02.036519",
     "exception": false,
     "start_time": "2022-10-19T11:56:58.300170",
     "status": "completed"
    },
    "tags": []
   },
   "outputs": [
    {
     "data": {
      "image/png": "[encoded data removed]",
      "text/plain": [
       "<Figure size 842.4x595.44 with 1 Axes>"
      ]
     },
     "metadata": {},
     "output_type": "display_data"
    },
    {
     "data": {
      "image/png": "[encoded data removed]",
      "text/plain": [
       "<Figure size 842.4x595.44 with 1 Axes>"
      ]
     },
     "metadata": {},
     "output_type": "display_data"
    },
    {
     "data": {
      "image/png": "[encoded data removed]",
      "text/plain": [
       "<Figure size 842.4x595.44 with 1 Axes>"
      ]
     },
     "metadata": {},
     "output_type": "display_data"
    },
    {
     "data": {
      "image/png": "[encoded data removed]",
      "text/plain": [
       "<Figure size 842.4x595.44 with 1 Axes>"
      ]
     },
     "metadata": {},
     "output_type": "display_data"
    },
    {
     "data": {
      "image/png": "[encoded data removed]",
      "text/plain": [
       "<Figure size 842.4x595.44 with 1 Axes>"
      ]
     },
     "metadata": {},
     "output_type": "display_data"
    },
    {
     "data": {
      "image/png": "[encoded data removed]",
      "text/plain": [
       "<Figure size 842.4x595.44 with 1 Axes>"
      ]
     },
     "metadata": {},
     "output_type": "display_data"
    },
    {
     "data": {
      "image/png": "[encoded data removed]",
      "text/plain": [
       "<Figure size 842.4x595.44 with 1 Axes>"
      ]
     },
     "metadata": {},
     "output_type": "display_data"
    },
    {
     "data": {
      "image/png": "[encoded data removed]",
      "text/plain": [
       "<Figure size 842.4x595.44 with 1 Axes>"
      ]
     },
     "metadata": {},
     "output_type": "display_data"
    },
    {
     "data": {
      "image/png": "[encoded data removed]",
      "text/plain": [
       "<Figure size 842.4x595.44 with 1 Axes>"
      ]
     },
     "metadata": {},
     "output_type": "display_data"
    },
    {
     "data": {
      "image/png": "[encoded data removed]",
      "text/plain": [
       "<Figure size 842.4x595.44 with 1 Axes>"
      ]
     },
     "metadata": {},
     "output_type": "display_data"
    },
    {
     "data": {
      "image/png": "[encoded data removed]",
      "text/plain": [
       "<Figure size 842.4x595.44 with 1 Axes>"
      ]
     },
     "metadata": {},
     "output_type": "display_data"
    }
   ],
   "source": [
    "for column in df_numeric:\n",
    "    sns.histplot(df[column])\n",
    "    plt.show()"
   ]
  },
  {
   "cell_type": "markdown",
   "id": "e06db903",
   "metadata": {
    "papermill": {
     "duration": 0.023275,
     "end_time": "2022-10-19T11:57:02.083007",
     "exception": false,
     "start_time": "2022-10-19T11:57:02.059732",
     "status": "completed"
    },
    "tags": []
   },
   "source": [
    "Características de alguns dados são:\n",
    "\n",
    "* PasengerId é irrelevante no contexto\n",
    "* Existem mais pessoas que morreram do que as que sobreviveram\n",
    "* A terceira classe é com a maior amostragem\n",
    "* Existem mais homens que mulheres na amostragem\n",
    "* A quantidade de pessoas é majoritariamente menor que 40 anos\n",
    "* A quantidade é muito maior em relação as pessoas que não tinham parentes, irmãos, pais e filhos\n",
    "* A maior parcela das pessoas no titanic tinha renda baixa"
   ]
  },
  {
   "cell_type": "code",
   "execution_count": 37,
   "id": "0c647212",
   "metadata": {
    "execution": {
     "iopub.execute_input": "2022-10-19T11:57:02.130451Z",
     "iopub.status.busy": "2022-10-19T11:57:02.130044Z",
     "iopub.status.idle": "2022-10-19T11:57:02.136237Z",
     "shell.execute_reply": "2022-10-19T11:57:02.135206Z"
    },
    "papermill": {
     "duration": 0.032465,
     "end_time": "2022-10-19T11:57:02.138505",
     "exception": false,
     "start_time": "2022-10-19T11:57:02.106040",
     "status": "completed"
    },
    "tags": []
   },
   "outputs": [],
   "source": [
    "df['Fare'] = df['Fare'].fillna(df['Fare'].mean())"
   ]
  },
  {
   "cell_type": "markdown",
   "id": "3f305651",
   "metadata": {
    "papermill": {
     "duration": 0.022326,
     "end_time": "2022-10-19T11:57:02.183416",
     "exception": false,
     "start_time": "2022-10-19T11:57:02.161090",
     "status": "completed"
    },
    "tags": []
   },
   "source": [
    "## Manipulação dos dados e teste em diferentes modelos\n",
    "\n",
    "Além das manipulaçõe feitas anteriormente, vamos verificar como se comparta os modelos com outliers e sem outliers, observando cada aspecto e em qual situação os modelos se compartam de uma maneira melhor\n",
    "\n",
    "Aqui vamos fazer algumas ações, otimizando este processo para os dados de treinamento:\n",
    "\n",
    "1. Fazer o encoding das colunas categóricas\n",
    "2. Dropar as colunas redundantes (As quais foram feitas a engenharia das features)\n",
    "3. Não vamos adicionar um modelo preditivo ainda, vamos verificar isto posteriomente pois testarei com diferentes modelos"
   ]
  },
  {
   "cell_type": "code",
   "execution_count": 38,
   "id": "f8ea4495",
   "metadata": {
    "execution": {
     "iopub.execute_input": "2022-10-19T11:57:02.230555Z",
     "iopub.status.busy": "2022-10-19T11:57:02.230108Z",
     "iopub.status.idle": "2022-10-19T11:57:02.246067Z",
     "shell.execute_reply": "2022-10-19T11:57:02.244408Z"
    },
    "papermill": {
     "duration": 0.04282,
     "end_time": "2022-10-19T11:57:02.249160",
     "exception": false,
     "start_time": "2022-10-19T11:57:02.206340",
     "status": "completed"
    },
    "tags": []
   },
   "outputs": [
    {
     "name": "stdout",
     "output_type": "stream",
     "text": [
      "<class 'pandas.core.frame.DataFrame'>\n",
      "Int64Index: 1309 entries, 0 to 417\n",
      "Data columns (total 18 columns):\n",
      " #   Column         Non-Null Count  Dtype  \n",
      "---  ------         --------------  -----  \n",
      " 0   PassengerId    1309 non-null   int64  \n",
      " 1   Survived       1309 non-null   int64  \n",
      " 2   Pclass         1309 non-null   int64  \n",
      " 3   Name           1309 non-null   object \n",
      " 4   Sex            1309 non-null   int64  \n",
      " 5   Age            1309 non-null   float64\n",
      " 6   SibSp          1309 non-null   int64  \n",
      " 7   Parch          1309 non-null   int64  \n",
      " 8   Ticket         1309 non-null   object \n",
      " 9   Fare           1309 non-null   float64\n",
      " 10  Cabin          295 non-null    object \n",
      " 11  Embarked       1309 non-null   object \n",
      " 12  Abrev          1309 non-null   object \n",
      " 13  Cabin_amt      1309 non-null   int64  \n",
      " 14  Cabin_initial  1309 non-null   object \n",
      " 15  Cabin_number   1309 non-null   int64  \n",
      " 16  Ticket_number  1309 non-null   int64  \n",
      " 17  Ticket_text    1309 non-null   object \n",
      "dtypes: float64(2), int64(9), object(7)\n",
      "memory usage: 226.6+ KB\n"
     ]
    }
   ],
   "source": [
    "df.info()"
   ]
  },
  {
   "cell_type": "code",
   "execution_count": 39,
   "id": "4d4adec8",
   "metadata": {
    "execution": {
     "iopub.execute_input": "2022-10-19T11:57:02.297562Z",
     "iopub.status.busy": "2022-10-19T11:57:02.297122Z",
     "iopub.status.idle": "2022-10-19T11:57:02.679174Z",
     "shell.execute_reply": "2022-10-19T11:57:02.677848Z"
    },
    "papermill": {
     "duration": 0.40928,
     "end_time": "2022-10-19T11:57:02.682013",
     "exception": false,
     "start_time": "2022-10-19T11:57:02.272733",
     "status": "completed"
    },
    "tags": []
   },
   "outputs": [],
   "source": [
    "from sklearn.model_selection import train_test_split\n",
    "\n",
    "from sklearn.preprocessing import OrdinalEncoder\n",
    "from sklearn.preprocessing import Normalizer\n",
    "from sklearn.preprocessing import OneHotEncoder\n",
    "from sklearn.compose import ColumnTransformer\n",
    "from sklearn.compose import make_column_selector as selector\n",
    "from sklearn.pipeline import Pipeline\n",
    "\n",
    "from sklearn.ensemble import RandomForestClassifier\n",
    "from sklearn.svm import SVC\n",
    "from sklearn.neighbors import KNeighborsClassifier\n",
    "\n",
    "from sklearn.model_selection import StratifiedKFold, cross_val_score\n",
    "\n",
    "from sklearn import set_config\n",
    "\n",
    "from sklearn.metrics import classification_report"
   ]
  },
  {
   "cell_type": "code",
   "execution_count": 40,
   "id": "32aac8f3",
   "metadata": {
    "execution": {
     "iopub.execute_input": "2022-10-19T11:57:02.730213Z",
     "iopub.status.busy": "2022-10-19T11:57:02.729804Z",
     "iopub.status.idle": "2022-10-19T11:57:02.763308Z",
     "shell.execute_reply": "2022-10-19T11:57:02.762105Z"
    },
    "papermill": {
     "duration": 0.061878,
     "end_time": "2022-10-19T11:57:02.767296",
     "exception": false,
     "start_time": "2022-10-19T11:57:02.705418",
     "status": "completed"
    },
    "tags": []
   },
   "outputs": [
    {
     "name": "stdout",
     "output_type": "stream",
     "text": [
      "<class 'pandas.core.frame.DataFrame'>\n",
      "Int64Index: 1309 entries, 0 to 417\n",
      "Data columns (total 71 columns):\n",
      " #   Column                  Non-Null Count  Dtype  \n",
      "---  ------                  --------------  -----  \n",
      " 0   Survived                1309 non-null   int64  \n",
      " 1   Pclass                  1309 non-null   int64  \n",
      " 2   Sex                     1309 non-null   int64  \n",
      " 3   Age                     1309 non-null   float64\n",
      " 4   SibSp                   1309 non-null   int64  \n",
      " 5   Parch                   1309 non-null   int64  \n",
      " 6   Fare                    1309 non-null   float64\n",
      " 7   Cabin_amt               1309 non-null   int64  \n",
      " 8   Cabin_number            1309 non-null   int64  \n",
      " 9   Ticket_number           1309 non-null   int64  \n",
      " 10  Embarked_Q              1309 non-null   uint8  \n",
      " 11  Embarked_S              1309 non-null   uint8  \n",
      " 12  Abrev_master            1309 non-null   uint8  \n",
      " 13  Abrev_miss              1309 non-null   uint8  \n",
      " 14  Abrev_mr                1309 non-null   uint8  \n",
      " 15  Abrev_mrs               1309 non-null   uint8  \n",
      " 16  Cabin_initial_B         1309 non-null   uint8  \n",
      " 17  Cabin_initial_C         1309 non-null   uint8  \n",
      " 18  Cabin_initial_D         1309 non-null   uint8  \n",
      " 19  Cabin_initial_E         1309 non-null   uint8  \n",
      " 20  Cabin_initial_F         1309 non-null   uint8  \n",
      " 21  Cabin_initial_G         1309 non-null   uint8  \n",
      " 22  Cabin_initial_T         1309 non-null   uint8  \n",
      " 23  Cabin_initial_X         1309 non-null   uint8  \n",
      " 24  Ticket_text_A.5.        1309 non-null   uint8  \n",
      " 25  Ticket_text_A/4         1309 non-null   uint8  \n",
      " 26  Ticket_text_A/4.        1309 non-null   uint8  \n",
      " 27  Ticket_text_A/5         1309 non-null   uint8  \n",
      " 28  Ticket_text_A/5.        1309 non-null   uint8  \n",
      " 29  Ticket_text_A/S         1309 non-null   uint8  \n",
      " 30  Ticket_text_A4.         1309 non-null   uint8  \n",
      " 31  Ticket_text_AQ/3.       1309 non-null   uint8  \n",
      " 32  Ticket_text_AQ/4        1309 non-null   uint8  \n",
      " 33  Ticket_text_C           1309 non-null   uint8  \n",
      " 34  Ticket_text_C.A.        1309 non-null   uint8  \n",
      " 35  Ticket_text_C.A./SOTON  1309 non-null   uint8  \n",
      " 36  Ticket_text_CA          1309 non-null   uint8  \n",
      " 37  Ticket_text_CA.         1309 non-null   uint8  \n",
      " 38  Ticket_text_F.C.        1309 non-null   uint8  \n",
      " 39  Ticket_text_F.C.C.      1309 non-null   uint8  \n",
      " 40  Ticket_text_Fa          1309 non-null   uint8  \n",
      " 41  Ticket_text_LP          1309 non-null   uint8  \n",
      " 42  Ticket_text_P/PP        1309 non-null   uint8  \n",
      " 43  Ticket_text_PC          1309 non-null   uint8  \n",
      " 44  Ticket_text_PP          1309 non-null   uint8  \n",
      " 45  Ticket_text_S.C./A.4.   1309 non-null   uint8  \n",
      " 46  Ticket_text_S.C./PARIS  1309 non-null   uint8  \n",
      " 47  Ticket_text_S.O./P.P.   1309 non-null   uint8  \n",
      " 48  Ticket_text_S.O.C.      1309 non-null   uint8  \n",
      " 49  Ticket_text_S.O.P.      1309 non-null   uint8  \n",
      " 50  Ticket_text_S.P.        1309 non-null   uint8  \n",
      " 51  Ticket_text_S.W./PP     1309 non-null   uint8  \n",
      " 52  Ticket_text_SC          1309 non-null   uint8  \n",
      " 53  Ticket_text_SC/A.3      1309 non-null   uint8  \n",
      " 54  Ticket_text_SC/A4       1309 non-null   uint8  \n",
      " 55  Ticket_text_SC/AH       1309 non-null   uint8  \n",
      " 56  Ticket_text_SC/PARIS    1309 non-null   uint8  \n",
      " 57  Ticket_text_SC/Paris    1309 non-null   uint8  \n",
      " 58  Ticket_text_SCO/W       1309 non-null   uint8  \n",
      " 59  Ticket_text_SO/C        1309 non-null   uint8  \n",
      " 60  Ticket_text_SOTON/O.Q.  1309 non-null   uint8  \n",
      " 61  Ticket_text_SOTON/O2    1309 non-null   uint8  \n",
      " 62  Ticket_text_SOTON/OQ    1309 non-null   uint8  \n",
      " 63  Ticket_text_STON/O2.    1309 non-null   uint8  \n",
      " 64  Ticket_text_STON/OQ.    1309 non-null   uint8  \n",
      " 65  Ticket_text_SW/PP       1309 non-null   uint8  \n",
      " 66  Ticket_text_W./C.       1309 non-null   uint8  \n",
      " 67  Ticket_text_W.E.P.      1309 non-null   uint8  \n",
      " 68  Ticket_text_W/C         1309 non-null   uint8  \n",
      " 69  Ticket_text_WE/P        1309 non-null   uint8  \n",
      " 70  Ticket_text_X           1309 non-null   uint8  \n",
      "dtypes: float64(2), int64(8), uint8(61)\n",
      "memory usage: 222.8 KB\n"
     ]
    }
   ],
   "source": [
    "df_drop = df.drop(['PassengerId','Name','Ticket','Cabin'],axis=1)\n",
    "\n",
    "df_dum = pd.get_dummies(df_drop,drop_first=True)\n",
    "df_dum.info()"
   ]
  },
  {
   "cell_type": "code",
   "execution_count": 41,
   "id": "76f5fa9e",
   "metadata": {
    "execution": {
     "iopub.execute_input": "2022-10-19T11:57:02.817068Z",
     "iopub.status.busy": "2022-10-19T11:57:02.816171Z",
     "iopub.status.idle": "2022-10-19T11:57:02.828200Z",
     "shell.execute_reply": "2022-10-19T11:57:02.826832Z"
    },
    "papermill": {
     "duration": 0.03868,
     "end_time": "2022-10-19T11:57:02.830925",
     "exception": false,
     "start_time": "2022-10-19T11:57:02.792245",
     "status": "completed"
    },
    "tags": []
   },
   "outputs": [],
   "source": [
    "train = df_dum[df_dum['Survived']!=-1]\n",
    "test = df_dum[df_dum['Survived']==-1]\n",
    "\n",
    "y = train['Survived']\n",
    "y_test = test['Survived']\n",
    "\n",
    "X = train.drop(['Survived'],axis=1)\n",
    "X_test = test.drop(['Survived'],axis=1)"
   ]
  },
  {
   "cell_type": "markdown",
   "id": "167b5d39",
   "metadata": {
    "papermill": {
     "duration": 0.022946,
     "end_time": "2022-10-19T11:57:02.877665",
     "exception": false,
     "start_time": "2022-10-19T11:57:02.854719",
     "status": "completed"
    },
    "tags": []
   },
   "source": [
    "### Split train and test data"
   ]
  },
  {
   "cell_type": "code",
   "execution_count": 42,
   "id": "49008cb1",
   "metadata": {
    "execution": {
     "iopub.execute_input": "2022-10-19T11:57:02.924929Z",
     "iopub.status.busy": "2022-10-19T11:57:02.924546Z",
     "iopub.status.idle": "2022-10-19T11:57:02.933551Z",
     "shell.execute_reply": "2022-10-19T11:57:02.932597Z"
    },
    "papermill": {
     "duration": 0.035654,
     "end_time": "2022-10-19T11:57:02.936040",
     "exception": false,
     "start_time": "2022-10-19T11:57:02.900386",
     "status": "completed"
    },
    "tags": []
   },
   "outputs": [],
   "source": [
    "X_train,X_val,y_train,y_val = train_test_split(X,y,test_size=0.30, random_state=42,stratify=y)"
   ]
  },
  {
   "cell_type": "code",
   "execution_count": 43,
   "id": "3d84dc2f",
   "metadata": {
    "execution": {
     "iopub.execute_input": "2022-10-19T11:57:02.984143Z",
     "iopub.status.busy": "2022-10-19T11:57:02.983711Z",
     "iopub.status.idle": "2022-10-19T11:57:02.988686Z",
     "shell.execute_reply": "2022-10-19T11:57:02.987622Z"
    },
    "papermill": {
     "duration": 0.032077,
     "end_time": "2022-10-19T11:57:02.991089",
     "exception": false,
     "start_time": "2022-10-19T11:57:02.959012",
     "status": "completed"
    },
    "tags": []
   },
   "outputs": [],
   "source": [
    "preprocessor = ColumnTransformer(\n",
    "    transformers=[\n",
    "        (\"num_normalizer\", Normalizer(), selector(dtype_include=np.number))\n",
    "    ]\n",
    ")"
   ]
  },
  {
   "cell_type": "code",
   "execution_count": 44,
   "id": "ad5d9d71",
   "metadata": {
    "execution": {
     "iopub.execute_input": "2022-10-19T11:57:03.037976Z",
     "iopub.status.busy": "2022-10-19T11:57:03.037548Z",
     "iopub.status.idle": "2022-10-19T11:57:03.044217Z",
     "shell.execute_reply": "2022-10-19T11:57:03.043320Z"
    },
    "papermill": {
     "duration": 0.032561,
     "end_time": "2022-10-19T11:57:03.046406",
     "exception": false,
     "start_time": "2022-10-19T11:57:03.013845",
     "status": "completed"
    },
    "tags": []
   },
   "outputs": [],
   "source": [
    "RFC = Pipeline(\n",
    "    steps=[(\"preprocessor\", preprocessor), (\"regressor\", RandomForestClassifier(random_state = 0, n_jobs=-1))]\n",
    ")\n",
    "\n",
    "SVM_SVC = Pipeline(\n",
    "    steps=[(\"preprocessor\", preprocessor), (\"regressor\", SVC())]\n",
    ")\n",
    "\n",
    "KNC = Pipeline(\n",
    "    steps=[(\"preprocessor\", preprocessor), (\"regressor\", KNeighborsClassifier(n_jobs=-1))]\n",
    ")"
   ]
  },
  {
   "cell_type": "code",
   "execution_count": 45,
   "id": "7d272801",
   "metadata": {
    "execution": {
     "iopub.execute_input": "2022-10-19T11:57:03.093708Z",
     "iopub.status.busy": "2022-10-19T11:57:03.093251Z",
     "iopub.status.idle": "2022-10-19T11:57:03.655866Z",
     "shell.execute_reply": "2022-10-19T11:57:03.654234Z"
    },
    "papermill": {
     "duration": 0.591711,
     "end_time": "2022-10-19T11:57:03.660771",
     "exception": false,
     "start_time": "2022-10-19T11:57:03.069060",
     "status": "completed"
    },
    "tags": []
   },
   "outputs": [],
   "source": [
    "RFC.fit(X_train,y_train)\n",
    "y_pred_RFC = RFC.predict(X_val)\n",
    "\n",
    "SVM_SVC.fit(X_train,y_train)\n",
    "y_pred_SVC = SVM_SVC.predict(X_val)\n",
    "\n",
    "KNC.fit(X_train,y_train)\n",
    "y_pred_KNC = KNC.predict(X_val)"
   ]
  },
  {
   "cell_type": "code",
   "execution_count": 46,
   "id": "1c606cd7",
   "metadata": {
    "execution": {
     "iopub.execute_input": "2022-10-19T11:57:03.712537Z",
     "iopub.status.busy": "2022-10-19T11:57:03.711756Z",
     "iopub.status.idle": "2022-10-19T11:57:03.735855Z",
     "shell.execute_reply": "2022-10-19T11:57:03.734182Z"
    },
    "papermill": {
     "duration": 0.054513,
     "end_time": "2022-10-19T11:57:03.738507",
     "exception": false,
     "start_time": "2022-10-19T11:57:03.683994",
     "status": "completed"
    },
    "tags": []
   },
   "outputs": [
    {
     "name": "stdout",
     "output_type": "stream",
     "text": [
      "Random Forest Classifier\n",
      "              precision    recall  f1-score   support\n",
      "\n",
      "           0       0.83      0.85      0.84       165\n",
      "           1       0.76      0.73      0.74       103\n",
      "\n",
      "    accuracy                           0.81       268\n",
      "   macro avg       0.80      0.79      0.79       268\n",
      "weighted avg       0.80      0.81      0.81       268\n",
      "\n",
      "Support Vector Machine Classifier\n",
      "              precision    recall  f1-score   support\n",
      "\n",
      "           0       0.62      1.00      0.76       165\n",
      "           1       0.00      0.00      0.00       103\n",
      "\n",
      "    accuracy                           0.62       268\n",
      "   macro avg       0.31      0.50      0.38       268\n",
      "weighted avg       0.38      0.62      0.47       268\n",
      "\n",
      "K-Neighbors Classifier\n",
      "              precision    recall  f1-score   support\n",
      "\n",
      "           0       0.73      0.78      0.75       165\n",
      "           1       0.60      0.54      0.57       103\n",
      "\n",
      "    accuracy                           0.69       268\n",
      "   macro avg       0.67      0.66      0.66       268\n",
      "weighted avg       0.68      0.69      0.68       268\n",
      "\n"
     ]
    },
    {
     "name": "stderr",
     "output_type": "stream",
     "text": [
      "/opt/conda/lib/python3.7/site-packages/sklearn/metrics/_classification.py:1318: UndefinedMetricWarning: Precision and F-score are ill-defined and being set to 0.0 in labels with no predicted samples. Use `zero_division` parameter to control this behavior.\n",
      "  _warn_prf(average, modifier, msg_start, len(result))\n",
      "/opt/conda/lib/python3.7/site-packages/sklearn/metrics/_classification.py:1318: UndefinedMetricWarning: Precision and F-score are ill-defined and being set to 0.0 in labels with no predicted samples. Use `zero_division` parameter to control this behavior.\n",
      "  _warn_prf(average, modifier, msg_start, len(result))\n",
      "/opt/conda/lib/python3.7/site-packages/sklearn/metrics/_classification.py:1318: UndefinedMetricWarning: Precision and F-score are ill-defined and being set to 0.0 in labels with no predicted samples. Use `zero_division` parameter to control this behavior.\n",
      "  _warn_prf(average, modifier, msg_start, len(result))\n"
     ]
    }
   ],
   "source": [
    "RFC_cl = classification_report(y_val,y_pred_RFC)\n",
    "\n",
    "print('Random Forest Classifier')\n",
    "print(RFC_cl)\n",
    "\n",
    "SVC_cl = classification_report(y_val,y_pred_SVC)\n",
    "\n",
    "print('Support Vector Machine Classifier')\n",
    "print(SVC_cl)\n",
    "\n",
    "KNC_cl = classification_report(y_val,y_pred_KNC)\n",
    "\n",
    "print('K-Neighbors Classifier')\n",
    "print(KNC_cl)"
   ]
  },
  {
   "cell_type": "code",
   "execution_count": 47,
   "id": "9a069ce6",
   "metadata": {
    "execution": {
     "iopub.execute_input": "2022-10-19T11:57:03.786670Z",
     "iopub.status.busy": "2022-10-19T11:57:03.786256Z",
     "iopub.status.idle": "2022-10-19T11:57:07.775364Z",
     "shell.execute_reply": "2022-10-19T11:57:07.773569Z"
    },
    "papermill": {
     "duration": 4.017786,
     "end_time": "2022-10-19T11:57:07.779600",
     "exception": false,
     "start_time": "2022-10-19T11:57:03.761814",
     "status": "completed"
    },
    "tags": []
   },
   "outputs": [
    {
     "name": "stdout",
     "output_type": "stream",
     "text": [
      "RFC\n",
      "\tMean acc: 0.827142 STD: (0.021859)\n",
      "SVC\n",
      "\tMean acc: 0.616163 STD: (0.002325)\n",
      "KNC\n",
      "\tMean acc: 0.692493 STD: (0.018373)\n"
     ]
    }
   ],
   "source": [
    "models = []\n",
    "models.append(('RFC', RFC))\n",
    "models.append(('SVC', SVM_SVC))\n",
    "models.append(('KNC', KNC))\n",
    "\n",
    "# evaluate each model in turn\n",
    "results = []\n",
    "names = []\n",
    "scoring = 'accuracy'\n",
    "\n",
    "for name, model in models:\n",
    "    kfold = StratifiedKFold(n_splits=5, shuffle=True)\n",
    "    cv_results = cross_val_score(model, X, y, cv=kfold, scoring=scoring)\n",
    "    results.append(cv_results)\n",
    "    names.append(name)\n",
    "    print(\"%s\" %(name))\n",
    "    msg = \"\\tMean acc: %f STD: (%f)\" % (cv_results.mean(), cv_results.std())\n",
    "    print(msg)"
   ]
  },
  {
   "cell_type": "code",
   "execution_count": 48,
   "id": "a20c6cd5",
   "metadata": {
    "execution": {
     "iopub.execute_input": "2022-10-19T11:57:07.827784Z",
     "iopub.status.busy": "2022-10-19T11:57:07.827327Z",
     "iopub.status.idle": "2022-10-19T11:57:07.991573Z",
     "shell.execute_reply": "2022-10-19T11:57:07.990218Z"
    },
    "papermill": {
     "duration": 0.193343,
     "end_time": "2022-10-19T11:57:07.996196",
     "exception": false,
     "start_time": "2022-10-19T11:57:07.802853",
     "status": "completed"
    },
    "tags": []
   },
   "outputs": [
    {
     "data": {
      "image/png": "[encoded data removed]",
      "text/plain": [
       "<Figure size 842.4x595.44 with 1 Axes>"
      ]
     },
     "metadata": {},
     "output_type": "display_data"
    }
   ],
   "source": [
    "# boxplot algorithm comparison\n",
    "fig = plt.figure()\n",
    "fig.suptitle('Algorithm Comparison')\n",
    "ax = fig.add_subplot(111)\n",
    "plt.boxplot(results)\n",
    "ax.set_xticklabels(names)\n",
    "plt.show()"
   ]
  },
  {
   "cell_type": "code",
   "execution_count": 49,
   "id": "d789e096",
   "metadata": {
    "execution": {
     "iopub.execute_input": "2022-10-19T11:57:08.048511Z",
     "iopub.status.busy": "2022-10-19T11:57:08.048086Z",
     "iopub.status.idle": "2022-10-19T11:57:08.163474Z",
     "shell.execute_reply": "2022-10-19T11:57:08.162146Z"
    },
    "papermill": {
     "duration": 0.143556,
     "end_time": "2022-10-19T11:57:08.167053",
     "exception": false,
     "start_time": "2022-10-19T11:57:08.023497",
     "status": "completed"
    },
    "tags": []
   },
   "outputs": [],
   "source": [
    "y_pred = RFC.predict(X_test)"
   ]
  },
  {
   "cell_type": "code",
   "execution_count": 50,
   "id": "df4557d1",
   "metadata": {
    "execution": {
     "iopub.execute_input": "2022-10-19T11:57:08.226810Z",
     "iopub.status.busy": "2022-10-19T11:57:08.226274Z",
     "iopub.status.idle": "2022-10-19T11:57:08.237151Z",
     "shell.execute_reply": "2022-10-19T11:57:08.236278Z"
    },
    "papermill": {
     "duration": 0.04031,
     "end_time": "2022-10-19T11:57:08.239594",
     "exception": false,
     "start_time": "2022-10-19T11:57:08.199284",
     "status": "completed"
    },
    "tags": []
   },
   "outputs": [],
   "source": [
    "test = pd.read_csv('../input/titanic/test.csv')\n",
    "test['Survived'] = y_pred"
   ]
  },
  {
   "cell_type": "code",
   "execution_count": 51,
   "id": "d7bc6a32",
   "metadata": {
    "execution": {
     "iopub.execute_input": "2022-10-19T11:57:08.293817Z",
     "iopub.status.busy": "2022-10-19T11:57:08.293366Z",
     "iopub.status.idle": "2022-10-19T11:57:08.303213Z",
     "shell.execute_reply": "2022-10-19T11:57:08.302071Z"
    },
    "papermill": {
     "duration": 0.04031,
     "end_time": "2022-10-19T11:57:08.305813",
     "exception": false,
     "start_time": "2022-10-19T11:57:08.265503",
     "status": "completed"
    },
    "tags": []
   },
   "outputs": [],
   "source": [
    "test[['PassengerId','Survived']].to_csv('./gender_sub_v1.csv',index=False)"
   ]
  },
  {
   "cell_type": "code",
   "execution_count": null,
   "id": "a1fa88f3",
   "metadata": {
    "papermill": {
     "duration": 0.025495,
     "end_time": "2022-10-19T11:57:08.357255",
     "exception": false,
     "start_time": "2022-10-19T11:57:08.331760",
     "status": "completed"
    },
    "tags": []
   },
   "outputs": [],
   "source": []
  }
 ],
 "metadata": {
  "kernelspec": {
   "display_name": "Python 3",
   "language": "python",
   "name": "python3"
  },
  "language_info": {
   "codemirror_mode": {
    "name": "ipython",
    "version": 3
   },
   "file_extension": ".py",
   "mimetype": "text/x-python",
   "name": "python",
   "nbconvert_exporter": "python",
   "pygments_lexer": "ipython3",
   "version": "3.7.12"
  },
  "papermill": {
   "default_parameters": {},
   "duration": 26.717837,
   "end_time": "2022-10-19T11:57:11.007115",
   "environment_variables": {},
   "exception": null,
   "input_path": "__notebook__.ipynb",
   "output_path": "__notebook__.ipynb",
   "parameters": {},
   "start_time": "2022-10-19T11:56:44.289278",
   "version": "2.3.4"
  }
 },
 "nbformat": 4,
 "nbformat_minor": 5
}
